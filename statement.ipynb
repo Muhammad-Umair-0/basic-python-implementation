{
 "cells": [
  {
   "cell_type": "code",
   "execution_count": 2,
   "id": "ae19e08c",
   "metadata": {},
   "outputs": [
    {
     "name": "stdout",
     "output_type": "stream",
     "text": [
      "30\n"
     ]
    }
   ],
   "source": [
    "a=10\n",
    "b=20\n",
    "print(a+b)"
   ]
  },
  {
   "cell_type": "markdown",
   "id": "b18de7b2",
   "metadata": {},
   "source": [
    "## python Statements \n",
    "Each line in a Python script is a statement."
   ]
  },
  {
   "cell_type": "code",
   "execution_count": 3,
   "id": "0e82761b",
   "metadata": {},
   "outputs": [
    {
     "name": "stdout",
     "output_type": "stream",
     "text": [
      "Hello\n",
      "20\n"
     ]
    }
   ],
   "source": [
    "# statement 1\n",
    "print('Hello')\n",
    "\n",
    "# statement 2\n",
    "x = 20\n",
    "\n",
    "# statement 3\n",
    "print(x)"
   ]
  },
  {
   "cell_type": "markdown",
   "id": "c44302b1",
   "metadata": {},
   "source": [
    "## multi line satement \n"
   ]
  },
  {
   "cell_type": "code",
   "execution_count": 5,
   "id": "a3152fd4",
   "metadata": {},
   "outputs": [
    {
     "name": "stdout",
     "output_type": "stream",
     "text": [
      "280\n",
      "280\n",
      "['Emma', 'Kelly', 'Jessa']\n",
      "{'Emma': 70, 'Kelly': 65, 'Jessa': 75}\n"
     ]
    }
   ],
   "source": [
    "# multi line statement \n",
    "addition = 10 + 20 + \\\n",
    "           30 + 40 + \\\n",
    "           50 + 60 + 70\n",
    "print(addition)\n",
    "\n",
    "\n",
    "\n",
    "# when we use ()  instead of \\\n",
    "\n",
    "addition = (10 + 20 +\n",
    "            30 + 40 +\n",
    "            50 + 60 + 70)\n",
    "print(addition)\n",
    "\n",
    "\n",
    "# we use [] for list and {} for dictionary\n",
    "# list of strings\n",
    "names = ['Emma',\n",
    "         'Kelly',\n",
    "         'Jessa']\n",
    "print(names)\n",
    "\n",
    "# dictionary name as a key and mark as a value\n",
    "# string:int\n",
    "students = {'Emma': 70,\n",
    "            'Kelly': 65,\n",
    "            'Jessa': 75}\n",
    "print(students)\n"
   ]
  },
  {
   "cell_type": "markdown",
   "id": "25a91ace",
   "metadata": {},
   "source": [
    "## Compound Statements \n",
    "these statements are used to to run other statemts these are \n",
    "### if , while , for , try , with \n",
    "we will apply later in their special topics this just a overview"
   ]
  },
  {
   "cell_type": "markdown",
   "id": "53678a75",
   "metadata": {},
   "source": [
    "## Expression Statemtns"
   ]
  },
  {
   "cell_type": "code",
   "execution_count": 6,
   "id": "08af88f8",
   "metadata": {},
   "outputs": [],
   "source": [
    "x = 5\n",
    "# right hand side of = is a expression statement\n",
    "\n",
    "# x = x + 10 is a complete statement\n",
    "x = x + 10"
   ]
  },
  {
   "cell_type": "markdown",
   "id": "7f60dcf2",
   "metadata": {},
   "source": [
    "# Pass Statement \n",
    "pass is a null operation. Nothing happens when it executes. It is useful as a placeholder when a statement is required syntactically, but no code needs to be executed."
   ]
  },
  {
   "cell_type": "code",
   "execution_count": 7,
   "id": "1db4eb1a",
   "metadata": {},
   "outputs": [],
   "source": [
    "# create a function\n",
    "def fun1(arg):\n",
    "    pass  # a function that does nothing (yet)\n"
   ]
  },
  {
   "cell_type": "markdown",
   "id": "a45f9e9f",
   "metadata": {},
   "source": [
    "## del statement\n",
    "it is used to delete the variable "
   ]
  },
  {
   "cell_type": "markdown",
   "id": "ef847d25",
   "metadata": {},
   "source": [
    "## Return Statement\n",
    "is used to return the results of the function"
   ]
  },
  {
   "cell_type": "code",
   "execution_count": 8,
   "id": "5bfb68db",
   "metadata": {},
   "outputs": [
    {
     "name": "stdout",
     "output_type": "stream",
     "text": [
      "30\n"
     ]
    }
   ],
   "source": [
    "# Define a function\n",
    "# function acceptts two numbers and return their sum\n",
    "def addition(num1, num2):\n",
    "    return num1 + num2  # return the sum of two numbers\n",
    "\n",
    "# result is the return value\n",
    "result = addition(10, 20)\n",
    "print(result)\n"
   ]
  },
  {
   "cell_type": "markdown",
   "id": "7a5deddc",
   "metadata": {},
   "source": [
    "## import \n",
    "this statement is used to import the modules also modules from classes, functions from other files\n"
   ]
  },
  {
   "cell_type": "code",
   "execution_count": 9,
   "id": "001dac3a",
   "metadata": {},
   "outputs": [
    {
     "name": "stdout",
     "output_type": "stream",
     "text": [
      "2025-06-19 18:07:15.035906\n"
     ]
    }
   ],
   "source": [
    "import datetime\n",
    "\n",
    "# get current datetime\n",
    "now = datetime.datetime.now()\n",
    "print(now)"
   ]
  },
  {
   "cell_type": "markdown",
   "id": "0c61f41b",
   "metadata": {},
   "source": [
    "## Break and continue\n",
    "### Break\n",
    "Break statement is used to break the loop if condition meet\n",
    "### continue \n",
    "This is used to skip the current statement when condition meet"
   ]
  },
  {
   "cell_type": "code",
   "execution_count": null,
   "id": "9d270691",
   "metadata": {},
   "outputs": [],
   "source": []
  }
 ],
 "metadata": {
  "kernelspec": {
   "display_name": "base",
   "language": "python",
   "name": "python3"
  },
  "language_info": {
   "codemirror_mode": {
    "name": "ipython",
    "version": 3
   },
   "file_extension": ".py",
   "mimetype": "text/x-python",
   "name": "python",
   "nbconvert_exporter": "python",
   "pygments_lexer": "ipython3",
   "version": "3.12.7"
  }
 },
 "nbformat": 4,
 "nbformat_minor": 5
}
