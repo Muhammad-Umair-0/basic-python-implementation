{
 "cells": [
  {
   "cell_type": "markdown",
   "id": "5a28b949",
   "metadata": {},
   "source": [
    "# 100 numpy exercises\n",
    "\n",
    "This is a collection of exercises that have been collected in the numpy mailing list, on stack overflow\n",
    "and in the numpy documentation. The goal of this collection is to offer a quick reference for both old\n",
    "and new users but also to provide a set of exercises for those who teach.\n",
    "\n",
    "\n",
    "If you find an error or think you've a better way to solve some of them, feel\n",
    "free to open an issue at <https://github.com/rougier/numpy-100>."
   ]
  },
  {
   "cell_type": "markdown",
   "id": "3f7a87ec",
   "metadata": {},
   "source": [
    "File automatically generated. See the documentation to update questions/answers/hints programmatically."
   ]
  },
  {
   "cell_type": "markdown",
   "id": "854ecf1b",
   "metadata": {},
   "source": [
    "Run the `initialise.py` module, then for each question you can query the\n",
    "answer or an hint with `hint(n)` or `answer(n)` for `n` question number."
   ]
  },
  {
   "cell_type": "markdown",
   "id": "c00df986",
   "metadata": {},
   "source": [
    "#### 1. Import the numpy package under the name `np` (★☆☆)"
   ]
  },
  {
   "cell_type": "code",
   "execution_count": 1,
   "id": "5d5b364d-1976-44bc-a92b-fc7fb65a226f",
   "metadata": {},
   "outputs": [],
   "source": [
    "# !pip install numpy\n"
   ]
  },
  {
   "cell_type": "code",
   "execution_count": 1,
   "id": "35bde95c",
   "metadata": {},
   "outputs": [],
   "source": [
    "import numpy as np"
   ]
  },
  {
   "cell_type": "markdown",
   "id": "b555a89f",
   "metadata": {},
   "source": [
    "#### 2. Print the numpy version and the configuration (★☆☆)"
   ]
  },
  {
   "cell_type": "code",
   "execution_count": 2,
   "id": "2c9d363d",
   "metadata": {},
   "outputs": [
    {
     "name": "stdout",
     "output_type": "stream",
     "text": [
      "2.3.3\n"
     ]
    }
   ],
   "source": [
    "print(np.__version__)"
   ]
  },
  {
   "cell_type": "markdown",
   "id": "e2713407",
   "metadata": {},
   "source": [
    "#### 3. Create a null vector of size 10 (★☆☆)"
   ]
  },
  {
   "cell_type": "code",
   "execution_count": 3,
   "id": "6df2f6db",
   "metadata": {},
   "outputs": [
    {
     "name": "stdout",
     "output_type": "stream",
     "text": [
      "[0 0 0 0 0 0 0 0 0 0]\n"
     ]
    }
   ],
   "source": [
    "vec = np.array([0]*10)\n",
    "print(vec)"
   ]
  },
  {
   "cell_type": "markdown",
   "id": "5a09554f",
   "metadata": {},
   "source": [
    "#### 4. How to find the memory size of any array (★☆☆)"
   ]
  },
  {
   "cell_type": "code",
   "execution_count": 4,
   "id": "c55a2a00",
   "metadata": {},
   "outputs": [
    {
     "name": "stdout",
     "output_type": "stream",
     "text": [
      "80\n",
      "10\n",
      "8\n"
     ]
    }
   ],
   "source": [
    "print((vec.size * vec.itemsize))\n",
    "print(vec.size)\n",
    "print(vec.itemsize)"
   ]
  },
  {
   "cell_type": "markdown",
   "id": "4720d438",
   "metadata": {},
   "source": [
    "#### 5. How to get the documentation of the numpy add function from the command line? (★☆☆)"
   ]
  },
  {
   "cell_type": "code",
   "execution_count": 5,
   "id": "d9e2277e",
   "metadata": {},
   "outputs": [
    {
     "name": "stdout",
     "output_type": "stream",
     "text": [
      "Help on ufunc in module numpy:\n",
      "\n",
      "add = <ufunc 'add'>\n",
      "    add(x1, x2, /, out=None, *, where=True, casting='same_kind', order='K', dtype=None, subok=True[, signature])\n",
      "\n",
      "    Add arguments element-wise.\n",
      "\n",
      "    Parameters\n",
      "    ----------\n",
      "    x1, x2 : array_like\n",
      "        The arrays to be added.\n",
      "        If ``x1.shape != x2.shape``, they must be broadcastable to a common\n",
      "        shape (which becomes the shape of the output).\n",
      "    out : ndarray, None, or tuple of ndarray and None, optional\n",
      "        A location into which the result is stored. If provided, it must have\n",
      "        a shape that the inputs broadcast to. If not provided or None,\n",
      "        a freshly-allocated array is returned. A tuple (possible only as a\n",
      "        keyword argument) must have length equal to the number of outputs.\n",
      "    where : array_like, optional\n",
      "        This condition is broadcast over the input. At locations where the\n",
      "        condition is True, the `out` array will be set to the ufunc result.\n",
      "        Elsewhere, the `out` array will retain its original value.\n",
      "        Note that if an uninitialized `out` array is created via the default\n",
      "        ``out=None``, locations within it where the condition is False will\n",
      "        remain uninitialized.\n",
      "    **kwargs\n",
      "        For other keyword-only arguments, see the\n",
      "        :ref:`ufunc docs <ufuncs.kwargs>`.\n",
      "\n",
      "    Returns\n",
      "    -------\n",
      "    add : ndarray or scalar\n",
      "        The sum of `x1` and `x2`, element-wise.\n",
      "        This is a scalar if both `x1` and `x2` are scalars.\n",
      "\n",
      "    Notes\n",
      "    -----\n",
      "    Equivalent to `x1` + `x2` in terms of array broadcasting.\n",
      "\n",
      "    Examples\n",
      "    --------\n",
      "    >>> import numpy as np\n",
      "    >>> np.add(1.0, 4.0)\n",
      "    5.0\n",
      "    >>> x1 = np.arange(9.0).reshape((3, 3))\n",
      "    >>> x2 = np.arange(3.0)\n",
      "    >>> np.add(x1, x2)\n",
      "    array([[  0.,   2.,   4.],\n",
      "           [  3.,   5.,   7.],\n",
      "           [  6.,   8.,  10.]])\n",
      "\n",
      "    The ``+`` operator can be used as a shorthand for ``np.add`` on ndarrays.\n",
      "\n",
      "    >>> x1 = np.arange(9.0).reshape((3, 3))\n",
      "    >>> x2 = np.arange(3.0)\n",
      "    >>> x1 + x2\n",
      "    array([[ 0.,  2.,  4.],\n",
      "           [ 3.,  5.,  7.],\n",
      "           [ 6.,  8., 10.]])\n",
      "\n"
     ]
    }
   ],
   "source": [
    "help(np.add)"
   ]
  },
  {
   "cell_type": "markdown",
   "id": "b812d322",
   "metadata": {},
   "source": [
    "#### 6. Create a null vector of size 10 but the fifth value which is 1 (★☆☆)"
   ]
  },
  {
   "cell_type": "code",
   "execution_count": 6,
   "id": "9f95cedf",
   "metadata": {},
   "outputs": [
    {
     "name": "stdout",
     "output_type": "stream",
     "text": [
      "[0. 0. 0. 0. 1. 0. 0. 0. 0. 0.]\n"
     ]
    }
   ],
   "source": [
    "null_vec = np.zeros(10)\n",
    "null_vec[4] = 1\n",
    "print(null_vec)\n"
   ]
  },
  {
   "cell_type": "code",
   "execution_count": 7,
   "id": "bba3ee5a",
   "metadata": {},
   "outputs": [
    {
     "name": "stdout",
     "output_type": "stream",
     "text": [
      "[1. 1. 1. 1. 1. 1. 1. 1. 1. 1.]\n",
      "[1. 1. 1. 1. 0. 1. 1. 1. 1. 1.]\n"
     ]
    }
   ],
   "source": [
    "ones_vec = np.ones(10)\n",
    "print(ones_vec)\n",
    "ones_vec[4]= 0\n",
    "print(ones_vec)    "
   ]
  },
  {
   "cell_type": "code",
   "execution_count": 8,
   "id": "623172e5",
   "metadata": {},
   "outputs": [
    {
     "data": {
      "text/plain": [
       "array([2, 2, 2, 2, 5, 2, 2, 2, 2, 2])"
      ]
     },
     "execution_count": 8,
     "metadata": {},
     "output_type": "execute_result"
    }
   ],
   "source": [
    "vec = np.array([2]*10)\n",
    "vec[4] = 5\n",
    "vec"
   ]
  },
  {
   "cell_type": "markdown",
   "id": "a348f2a8",
   "metadata": {},
   "source": [
    "#### 7. Create a vector with values ranging from 10 to 49 (★☆☆)"
   ]
  },
  {
   "cell_type": "code",
   "execution_count": 9,
   "id": "5a68fd5b",
   "metadata": {},
   "outputs": [
    {
     "name": "stdout",
     "output_type": "stream",
     "text": [
      "[10 11 12 13 14 15 16 17 18 19 20 21 22 23 24 25 26 27 28 29 30 31 32 33\n",
      " 34 35 36 37 38 39 40 41 42 43 44 45 46 47 48 49]\n"
     ]
    }
   ],
   "source": [
    "# np.arange(start, stop, step)\n",
    "vec = np.arange(10, 50)\n",
    "print(vec)"
   ]
  },
  {
   "cell_type": "markdown",
   "id": "2f4ca4c0",
   "metadata": {},
   "source": [
    "#### 8. Reverse a vector (first element becomes last) (★☆☆)"
   ]
  },
  {
   "cell_type": "code",
   "execution_count": 10,
   "id": "1892e775",
   "metadata": {},
   "outputs": [
    {
     "name": "stdout",
     "output_type": "stream",
     "text": [
      "[49 48 47 46 45 44 43 42 41 40 39 38 37 36 35 34 33 32 31 30 29 28 27 26\n",
      " 25 24 23 22 21 20 19 18 17 16 15 14 13 12 11 10]\n"
     ]
    }
   ],
   "source": [
    "vec = np.array(vec)\n",
    "print(vec[::-1])"
   ]
  },
  {
   "cell_type": "markdown",
   "id": "31381832",
   "metadata": {},
   "source": [
    "#### 9. Create a 3x3 matrix with values ranging from 0 to 8 (★☆☆)"
   ]
  },
  {
   "cell_type": "code",
   "execution_count": 11,
   "id": "0154f251",
   "metadata": {},
   "outputs": [
    {
     "name": "stdout",
     "output_type": "stream",
     "text": [
      "[[1 2 3]\n",
      " [1 2 4]\n",
      " [1 2 3]]\n"
     ]
    }
   ],
   "source": [
    "arr = np.array([[1,2,3],[1,2,4],[1,2,3]])\n",
    "print(arr)"
   ]
  },
  {
   "cell_type": "markdown",
   "id": "8c353e84",
   "metadata": {},
   "source": [
    "#### 10. Find indices of non-zero elements from [1,2,0,0,4,0] (★☆☆)"
   ]
  },
  {
   "cell_type": "code",
   "execution_count": 12,
   "id": "da3495c3",
   "metadata": {},
   "outputs": [
    {
     "name": "stdout",
     "output_type": "stream",
     "text": [
      "[0, 1, 4]\n"
     ]
    }
   ],
   "source": [
    "vec = [1,2,0,0,4,0]\n",
    "non_zero_indices = [i for i, x in enumerate(vec) if x != 0]\n",
    "print(non_zero_indices)"
   ]
  },
  {
   "cell_type": "code",
   "execution_count": 13,
   "id": "9c89f2e0-ca86-41fc-9087-cff6e1b96f0d",
   "metadata": {},
   "outputs": [
    {
     "data": {
      "text/plain": [
       "(array([0, 1, 4]),)"
      ]
     },
     "execution_count": 13,
     "metadata": {},
     "output_type": "execute_result"
    }
   ],
   "source": [
    "np.nonzero(vec)"
   ]
  },
  {
   "cell_type": "markdown",
   "id": "a26ac749",
   "metadata": {},
   "source": [
    "#### 11. Create a 3x3 identity matrix (★☆☆)"
   ]
  },
  {
   "cell_type": "code",
   "execution_count": 14,
   "id": "3e33feda",
   "metadata": {},
   "outputs": [
    {
     "data": {
      "text/plain": [
       "array([[1., 0., 0.],\n",
       "       [0., 1., 0.],\n",
       "       [0., 0., 1.]])"
      ]
     },
     "execution_count": 14,
     "metadata": {},
     "output_type": "execute_result"
    }
   ],
   "source": [
    "np.identity(3)"
   ]
  },
  {
   "cell_type": "markdown",
   "id": "3a293379",
   "metadata": {},
   "source": [
    "#### 12. Create a 3x3x3 array with random values (★☆☆)"
   ]
  },
  {
   "cell_type": "code",
   "execution_count": 15,
   "id": "2da08152",
   "metadata": {},
   "outputs": [
    {
     "data": {
      "text/plain": [
       "array([[[0.32183641, 0.95483441, 0.48067409],\n",
       "        [0.41502203, 0.28331577, 0.79145643],\n",
       "        [0.81103073, 0.19516197, 0.2569672 ]],\n",
       "\n",
       "       [[0.55015883, 0.07835438, 0.33647392],\n",
       "        [0.28837334, 0.58158538, 0.27419293],\n",
       "        [0.07386502, 0.41698634, 0.9417047 ]],\n",
       "\n",
       "       [[0.67457424, 0.77281224, 0.97615832],\n",
       "        [0.66588228, 0.75421085, 0.05438452],\n",
       "        [0.13952324, 0.33589379, 0.44541374]]])"
      ]
     },
     "execution_count": 15,
     "metadata": {},
     "output_type": "execute_result"
    }
   ],
   "source": [
    "np.random.random((3,3,3))"
   ]
  },
  {
   "cell_type": "markdown",
   "id": "e3faa924",
   "metadata": {},
   "source": [
    "#### 13. Create a 10x10 array with random values and find the minimum and maximum values (★☆☆)"
   ]
  },
  {
   "cell_type": "code",
   "execution_count": 16,
   "id": "e9fb3793",
   "metadata": {},
   "outputs": [
    {
     "name": "stdout",
     "output_type": "stream",
     "text": [
      "0.00232612985613756\n",
      "0.9993145340585026\n"
     ]
    }
   ],
   "source": [
    "arr = np.random.random((10,10,10))\n",
    "print(np.min(arr))\n",
    "print(np.max(arr))"
   ]
  },
  {
   "cell_type": "markdown",
   "id": "317cb8d1",
   "metadata": {},
   "source": [
    "#### 14. Create a random vector of size 30 and find the mean value (★☆☆)"
   ]
  },
  {
   "cell_type": "code",
   "execution_count": 17,
   "id": "4ea995d6",
   "metadata": {},
   "outputs": [
    {
     "name": "stdout",
     "output_type": "stream",
     "text": [
      "[0.85074646 0.48753989 0.60204045 0.47242955 0.79540028 0.91216921\n",
      " 0.14959141 0.67849435 0.29501823 0.1616758 ]\n",
      "10\n"
     ]
    },
    {
     "data": {
      "text/plain": [
       "np.float64(0.5405105627336975)"
      ]
     },
     "execution_count": 17,
     "metadata": {},
     "output_type": "execute_result"
    }
   ],
   "source": [
    "x = np.random.random(10)\n",
    "print(x)\n",
    "n= int(len(x))\n",
    "print(n)\n",
    "np.mean(x)"
   ]
  },
  {
   "cell_type": "markdown",
   "id": "b8dee0f2",
   "metadata": {},
   "source": [
    "#### 15. Create a 2d array with 1 on the border and 0 inside (★☆☆)"
   ]
  },
  {
   "cell_type": "code",
   "execution_count": 18,
   "id": "7054464b",
   "metadata": {},
   "outputs": [
    {
     "name": "stdout",
     "output_type": "stream",
     "text": [
      "[[1. 1. 1. 1. 1.]\n",
      " [1. 1. 1. 1. 1.]\n",
      " [1. 1. 1. 1. 1.]\n",
      " [1. 1. 1. 1. 1.]\n",
      " [1. 1. 1. 1. 1.]]\n",
      "After bordring \n",
      " [[1. 1. 1. 1. 1.]\n",
      " [1. 0. 0. 0. 1.]\n",
      " [1. 0. 0. 0. 1.]\n",
      " [1. 0. 0. 0. 1.]\n",
      " [1. 1. 1. 1. 1.]]\n"
     ]
    }
   ],
   "source": [
    "x = np.ones((5,5))\n",
    "print(x)\n",
    "x[1:-1, 1:-1] = 0\n",
    "print(\"After bordring \\n\",x)\n"
   ]
  },
  {
   "cell_type": "markdown",
   "id": "1476f45f",
   "metadata": {},
   "source": [
    "#### 16. How to add a border (filled with 0's) around an existing array? (★☆☆)"
   ]
  },
  {
   "cell_type": "code",
   "execution_count": 19,
   "id": "4f0212af",
   "metadata": {},
   "outputs": [
    {
     "data": {
      "text/plain": [
       "array([[0., 0., 0., 0., 0., 0., 0.],\n",
       "       [0., 1., 1., 1., 1., 1., 0.],\n",
       "       [0., 1., 1., 1., 1., 1., 0.],\n",
       "       [0., 1., 1., 1., 1., 1., 0.],\n",
       "       [0., 1., 1., 1., 1., 1., 0.],\n",
       "       [0., 1., 1., 1., 1., 1., 0.],\n",
       "       [0., 0., 0., 0., 0., 0., 0.]])"
      ]
     },
     "execution_count": 19,
     "metadata": {},
     "output_type": "execute_result"
    }
   ],
   "source": [
    "x = np.ones((5,5))\n",
    "x = np.pad(x, pad_width=1, constant_values=0)\n",
    "x"
   ]
  },
  {
   "cell_type": "markdown",
   "id": "52844dc7",
   "metadata": {},
   "source": [
    "#### 17. What is the result of the following expression? (★☆☆)\n",
    "```python\n",
    "0 * np.nan\n",
    "np.nan == np.nan\n",
    "np.inf > np.nan\n",
    "np.nan - np.nan\n",
    "np.nan in set([np.nan])\n",
    "0.3 == 3 * 0.1\n",
    "```"
   ]
  },
  {
   "cell_type": "code",
   "execution_count": 20,
   "id": "cfdb7352",
   "metadata": {},
   "outputs": [
    {
     "name": "stdout",
     "output_type": "stream",
     "text": [
      "nan\n",
      "False\n",
      "False\n",
      "nan\n",
      "True\n",
      "False\n"
     ]
    }
   ],
   "source": [
    "print(0 * np.nan)\n",
    "print(np.nan == np.nan)\n",
    "print(np.inf > np.nan)\n",
    "print(np.nan - np.nan)\n",
    "print(np.nan in set([np.nan]))\n",
    "print(0.3 == 3 * 0.1)"
   ]
  },
  {
   "cell_type": "markdown",
   "id": "9801c961",
   "metadata": {},
   "source": [
    "#### 18. Create a 5x5 matrix with values 1,2,3,4 just below the diagonal (★☆☆)"
   ]
  },
  {
   "cell_type": "code",
   "execution_count": 21,
   "id": "4e97651a",
   "metadata": {},
   "outputs": [
    {
     "data": {
      "text/plain": [
       "array([[1, 0, 0, 0, 0],\n",
       "       [0, 2, 0, 0, 0],\n",
       "       [0, 0, 3, 0, 0],\n",
       "       [0, 0, 0, 4, 0],\n",
       "       [0, 0, 0, 0, 5]])"
      ]
     },
     "execution_count": 21,
     "metadata": {},
     "output_type": "execute_result"
    }
   ],
   "source": [
    "np.diag([1,2,3,4,5])"
   ]
  },
  {
   "cell_type": "markdown",
   "id": "3dc05e9f",
   "metadata": {},
   "source": [
    "#### 19. Create a 8x8 matrix and fill it with a checkerboard pattern (★☆☆)"
   ]
  },
  {
   "cell_type": "code",
   "execution_count": 22,
   "id": "0b100b85",
   "metadata": {},
   "outputs": [
    {
     "data": {
      "text/plain": [
       "array([[0, 1, 0, 1, 0, 1, 0, 1],\n",
       "       [1, 0, 1, 0, 1, 0, 1, 0],\n",
       "       [0, 1, 0, 1, 0, 1, 0, 1],\n",
       "       [1, 0, 1, 0, 1, 0, 1, 0],\n",
       "       [0, 1, 0, 1, 0, 1, 0, 1],\n",
       "       [1, 0, 1, 0, 1, 0, 1, 0],\n",
       "       [0, 1, 0, 1, 0, 1, 0, 1],\n",
       "       [1, 0, 1, 0, 1, 0, 1, 0]])"
      ]
     },
     "execution_count": 22,
     "metadata": {},
     "output_type": "execute_result"
    }
   ],
   "source": [
    "x = np.zeros((8,8), dtype = int)\n",
    "x[1::2, ::2]=1\n",
    "x[::2,1::2]=1\n",
    "\n",
    "x"
   ]
  },
  {
   "cell_type": "markdown",
   "id": "d8e941b6",
   "metadata": {},
   "source": [
    "#### 20. Consider a (6,7,8) shape array, what is the index (x,y,z) of the 100th element? (★☆☆)"
   ]
  },
  {
   "cell_type": "code",
   "execution_count": 23,
   "id": "b3bc1fcb",
   "metadata": {},
   "outputs": [
    {
     "name": "stdout",
     "output_type": "stream",
     "text": [
      "The index is: (np.int64(1), np.int64(5), np.int64(2))\n"
     ]
    }
   ],
   "source": [
    "# The shape of the array\n",
    "shape = (6, 7, 8)\n",
    "\n",
    "linear_index = 98\n",
    "\n",
    "index = np.unravel_index(linear_index, shape)\n",
    "print(f\"The index is: {index}\")"
   ]
  },
  {
   "cell_type": "code",
   "execution_count": 24,
   "id": "49ab0b3e-497f-4c6c-aea3-e0631e18d748",
   "metadata": {},
   "outputs": [
    {
     "name": "stdout",
     "output_type": "stream",
     "text": [
      "(np.int64(1), np.int64(5), np.int64(3))\n"
     ]
    }
   ],
   "source": [
    "print(np.unravel_index(99,(6,7,8)))"
   ]
  },
  {
   "cell_type": "markdown",
   "id": "bf3b8ab3",
   "metadata": {},
   "source": [
    "#### 21. Create a checkerboard 8x8 matrix using the tile function (★☆☆)"
   ]
  },
  {
   "cell_type": "code",
   "execution_count": 25,
   "id": "eb15c681",
   "metadata": {},
   "outputs": [
    {
     "name": "stdout",
     "output_type": "stream",
     "text": [
      "[[0. 1. 0. 1. 0. 1. 0. 1.]\n",
      " [1. 0. 1. 0. 1. 0. 1. 0.]\n",
      " [0. 1. 0. 1. 0. 1. 0. 1.]\n",
      " [1. 0. 1. 0. 1. 0. 1. 0.]\n",
      " [0. 1. 0. 1. 0. 1. 0. 1.]\n",
      " [1. 0. 1. 0. 1. 0. 1. 0.]\n",
      " [0. 1. 0. 1. 0. 1. 0. 1.]\n",
      " [1. 0. 1. 0. 1. 0. 1. 0.]]\n"
     ]
    }
   ],
   "source": [
    "arr = np.zeros(8)\n",
    "rep = (3,1)\n",
    "arr = np.tile(arr, (8,1))\n",
    "arr[1::2, ::2]=1\n",
    "arr[::2,1::2]=1\n",
    "print(arr)"
   ]
  },
  {
   "cell_type": "markdown",
   "id": "71af9d19",
   "metadata": {},
   "source": [
    "#### 22. Normalize a 5x5 random matrix (★☆☆)"
   ]
  },
  {
   "cell_type": "code",
   "execution_count": 26,
   "id": "df20b788",
   "metadata": {},
   "outputs": [
    {
     "name": "stdout",
     "output_type": "stream",
     "text": [
      "Arr- min [[0.66995184 0.79820476 0.90757968 0.43499482 0.66018501]\n",
      " [0.84237588 0.84663312 0.70368627 0.62032296 0.06502021]\n",
      " [0.90661994 0.30874967 0.41267085 0.         0.76246274]\n",
      " [0.55394931 0.45690217 0.29930265 0.36961233 0.59024719]\n",
      " [0.8498361  0.02509825 0.51883259 0.42096544 0.86386847]]\n",
      "Max - Min  0.9075796781764379\n",
      "Normalized Array:\n",
      " [[0.73817413 0.87948725 1.         0.47929105 0.72741273]\n",
      " [0.92815639 0.93284715 0.77534379 0.68349146 0.07164132]\n",
      " [0.99894253 0.34019015 0.4546938  0.         0.84010556]\n",
      " [0.61035887 0.50342927 0.32978113 0.40725055 0.65035302]\n",
      " [0.9363763  0.02765405 0.57166616 0.46383304 0.95183761]]\n"
     ]
    }
   ],
   "source": [
    "arr = np.random.random((5,5))\n",
    "min = arr.min()\n",
    "max = arr.max()\n",
    "print(\"Arr- min\", arr-min)\n",
    "print(\"Max - Min \", max-min)\n",
    "normalized_arr = (arr - min) / (max - min)\n",
    "print(\"Normalized Array:\\n\", normalized_arr)"
   ]
  },
  {
   "cell_type": "markdown",
   "id": "01cd9893",
   "metadata": {},
   "source": [
    "#### 23. Create a custom dtype that describes a color as four unsigned bytes (RGBA) (★☆☆)"
   ]
  },
  {
   "cell_type": "code",
   "execution_count": 27,
   "id": "4acddc2f",
   "metadata": {},
   "outputs": [
    {
     "data": {
      "text/plain": [
       "dtype([('r', 'u1'), ('g', 'u1'), ('b', 'u1'), ('a', 'u1')])"
      ]
     },
     "execution_count": 27,
     "metadata": {},
     "output_type": "execute_result"
    }
   ],
   "source": [
    "color = np.dtype([(\"r\", np.ubyte),\n",
    "                  (\"g\", np.ubyte),\n",
    "                  (\"b\", np.ubyte),\n",
    "                  (\"a\", np.ubyte)])\n",
    "color"
   ]
  },
  {
   "cell_type": "markdown",
   "id": "0ef5f38b",
   "metadata": {},
   "source": [
    "#### 24. Multiply a 5x3 matrix by a 3x2 matrix (real matrix product) (★☆☆)"
   ]
  },
  {
   "cell_type": "code",
   "execution_count": 28,
   "id": "3d36d4a0",
   "metadata": {},
   "outputs": [
    {
     "name": "stdout",
     "output_type": "stream",
     "text": [
      "Z Matrix \n",
      " [[3. 3.]\n",
      " [3. 3.]\n",
      " [3. 3.]\n",
      " [3. 3.]\n",
      " [3. 3.]]\n",
      "MAtrix A \n",
      " [[1. 1. 1.]\n",
      " [1. 1. 1.]\n",
      " [1. 1. 1.]\n",
      " [1. 1. 1.]\n",
      " [1. 1. 1.]]\n",
      "Matrix B \n",
      " [[1. 1.]\n",
      " [1. 1.]\n",
      " [1. 1.]]\n",
      "Matrix Multiplication AxB \n",
      "\n",
      "[[3. 3.]\n",
      " [3. 3.]\n",
      " [3. 3.]\n",
      " [3. 3.]\n",
      " [3. 3.]]\n"
     ]
    }
   ],
   "source": [
    "a = np.ones((5, 3))\n",
    "b = np.ones((3, 2))\n",
    "\n",
    "Z = np.matmul(a,b)\n",
    "print(\"Z Matrix \\n\",Z)\n",
    "print(\"MAtrix A \\n\",a)\n",
    "print(\"Matrix B \\n\",b)\n",
    "print(\"Matrix Multiplication AxB \\n\")\n",
    "print(np.dot(a, b))"
   ]
  },
  {
   "cell_type": "markdown",
   "id": "a46db425",
   "metadata": {},
   "source": [
    "#### 25. Given a 1D array, negate all elements which are between 3 and 8, in place. (★☆☆)"
   ]
  },
  {
   "cell_type": "code",
   "execution_count": 29,
   "id": "86e3d6a8",
   "metadata": {},
   "outputs": [
    {
     "name": "stdout",
     "output_type": "stream",
     "text": [
      "[ 0  1  2  3 -4 -5 -6 -7  8  9]\n",
      "[ 0  1  2  3 -4 -5 -6 -7  8  9]\n"
     ]
    }
   ],
   "source": [
    "arr = np.arange(10)\n",
    "for i in arr:\n",
    "    if i>3 and i<8:\n",
    "        arr[i] *= -1\n",
    "print(arr)\n",
    "Z  = np.arange(10)\n",
    "Z[(3 < Z) & (Z < 8)] *= -1\n",
    "print(Z)"
   ]
  },
  {
   "cell_type": "markdown",
   "id": "89fa6007",
   "metadata": {},
   "source": [
    "#### 26. What is the output of the following script? (★☆☆)\n",
    "```python\n",
    "# Author: Jake VanderPlas\n",
    "\n",
    "print(sum(range(5),-1))\n",
    "from numpy import *\n",
    "print(sum(range(5),-1))\n",
    "```"
   ]
  },
  {
   "cell_type": "code",
   "execution_count": 30,
   "id": "59f2c6dc",
   "metadata": {},
   "outputs": [
    {
     "name": "stdout",
     "output_type": "stream",
     "text": [
      "9\n",
      "10\n"
     ]
    }
   ],
   "source": [
    "print(sum(range(5),-1))\n",
    "import numpy as np\n",
    "print(np.sum(range(5),-1))"
   ]
  },
  {
   "cell_type": "markdown",
   "id": "38de4589",
   "metadata": {},
   "source": [
    "#### 27. Consider an integer vector Z, which of these expressions are legal? (★☆☆)\n",
    "```python\n",
    "Z**Z\n",
    "2 << Z >> 2\n",
    "Z <- Z\n",
    "1j*Z\n",
    "Z/1/1\n",
    "Z<Z>Z\n",
    "```"
   ]
  },
  {
   "cell_type": "code",
   "execution_count": 31,
   "id": "a9dc9520",
   "metadata": {},
   "outputs": [
    {
     "data": {
      "text/plain": [
       "array([1., 1., 1., 1., 1.])"
      ]
     },
     "execution_count": 31,
     "metadata": {},
     "output_type": "execute_result"
    }
   ],
   "source": [
    "Z = np.ones(5)\n",
    "Z**Z\n"
   ]
  },
  {
   "cell_type": "code",
   "execution_count": 32,
   "id": "c54db6db",
   "metadata": {},
   "outputs": [
    {
     "ename": "TypeError",
     "evalue": "ufunc 'left_shift' not supported for the input types, and the inputs could not be safely coerced to any supported types according to the casting rule ''safe''",
     "output_type": "error",
     "traceback": [
      "\u001b[31m---------------------------------------------------------------------------\u001b[39m",
      "\u001b[31mTypeError\u001b[39m                                 Traceback (most recent call last)",
      "\u001b[36mCell\u001b[39m\u001b[36m \u001b[39m\u001b[32mIn[32]\u001b[39m\u001b[32m, line 1\u001b[39m\n\u001b[32m----> \u001b[39m\u001b[32m1\u001b[39m \u001b[32;43m2\u001b[39;49m\u001b[43m \u001b[49m\u001b[43m<<\u001b[49m\u001b[43m \u001b[49m\u001b[43mZ\u001b[49m >> \u001b[32m2\u001b[39m   \u001b[38;5;66;03m# not legal \u001b[39;00m\n",
      "\u001b[31mTypeError\u001b[39m: ufunc 'left_shift' not supported for the input types, and the inputs could not be safely coerced to any supported types according to the casting rule ''safe''"
     ]
    }
   ],
   "source": [
    "2 << Z >> 2   # not legal "
   ]
  },
  {
   "cell_type": "code",
   "execution_count": null,
   "id": "d363faf4",
   "metadata": {},
   "outputs": [],
   "source": [
    "Z <- Z\n"
   ]
  },
  {
   "cell_type": "code",
   "execution_count": null,
   "id": "86702eab",
   "metadata": {},
   "outputs": [],
   "source": [
    "1j*Z\n"
   ]
  },
  {
   "cell_type": "code",
   "execution_count": null,
   "id": "0879ca31",
   "metadata": {},
   "outputs": [],
   "source": [
    "Z/1/1   \n"
   ]
  },
  {
   "cell_type": "code",
   "execution_count": null,
   "id": "cd15e9a1",
   "metadata": {},
   "outputs": [],
   "source": [
    "# Z<Z>Z   not Legal"
   ]
  },
  {
   "cell_type": "markdown",
   "id": "77c8b8c7",
   "metadata": {},
   "source": [
    "#### 28. What are the result of the following expressions? (★☆☆)\n",
    "```python\n",
    "np.array(0) / np.array(0)\n",
    "np.array(0) // np.array(0)\n",
    "np.array([np.nan]).astype(int).astype(float)\n",
    "```"
   ]
  },
  {
   "cell_type": "code",
   "execution_count": 33,
   "id": "3b66fe44",
   "metadata": {},
   "outputs": [
    {
     "name": "stderr",
     "output_type": "stream",
     "text": [
      "C:\\Program Files\\KMSpico\\temp\\ipykernel_8544\\873513115.py:1: RuntimeWarning: invalid value encountered in divide\n",
      "  np.array(0) / np.array(0)\n"
     ]
    },
    {
     "data": {
      "text/plain": [
       "np.float64(nan)"
      ]
     },
     "execution_count": 33,
     "metadata": {},
     "output_type": "execute_result"
    }
   ],
   "source": [
    "np.array(0) / np.array(0)"
   ]
  },
  {
   "cell_type": "code",
   "execution_count": 34,
   "id": "6e4f88e7",
   "metadata": {},
   "outputs": [
    {
     "name": "stderr",
     "output_type": "stream",
     "text": [
      "C:\\Program Files\\KMSpico\\temp\\ipykernel_8544\\2018018105.py:1: RuntimeWarning: divide by zero encountered in floor_divide\n",
      "  np.array(0) // np.array(0)\n"
     ]
    },
    {
     "data": {
      "text/plain": [
       "np.int64(0)"
      ]
     },
     "execution_count": 34,
     "metadata": {},
     "output_type": "execute_result"
    }
   ],
   "source": [
    "np.array(0) // np.array(0)"
   ]
  },
  {
   "cell_type": "code",
   "execution_count": 35,
   "id": "8e3f197f",
   "metadata": {},
   "outputs": [
    {
     "name": "stderr",
     "output_type": "stream",
     "text": [
      "C:\\Program Files\\KMSpico\\temp\\ipykernel_8544\\699728972.py:1: RuntimeWarning: invalid value encountered in cast\n",
      "  np.array([np.nan]).astype(int).astype(float)\n"
     ]
    },
    {
     "data": {
      "text/plain": [
       "array([-9.22337204e+18])"
      ]
     },
     "execution_count": 35,
     "metadata": {},
     "output_type": "execute_result"
    }
   ],
   "source": [
    "np.array([np.nan]).astype(int).astype(float)"
   ]
  },
  {
   "cell_type": "markdown",
   "id": "1f3f0892",
   "metadata": {},
   "source": [
    "#### 29. How to round away from zero a float array ? (★☆☆)"
   ]
  },
  {
   "cell_type": "code",
   "execution_count": 36,
   "id": "8fce1bd7",
   "metadata": {},
   "outputs": [
    {
     "name": "stdout",
     "output_type": "stream",
     "text": [
      "[4.21892302 8.68553881 9.33573842 0.08839914 7.4942925  1.87117673\n",
      " 8.5641145  7.93621681 9.54280747 0.36643592]\n"
     ]
    }
   ],
   "source": [
    "Z = np.random.uniform(0,10,10)\n",
    "print(Z)"
   ]
  },
  {
   "cell_type": "code",
   "execution_count": 37,
   "id": "e31a7d0a",
   "metadata": {},
   "outputs": [
    {
     "name": "stdout",
     "output_type": "stream",
     "text": [
      "[4.21892302 8.68553881 9.33573842 0.08839914 7.4942925  1.87117673\n",
      " 8.5641145  7.93621681 9.54280747 0.36643592]\n"
     ]
    }
   ],
   "source": [
    "print(np.abs(Z))"
   ]
  },
  {
   "cell_type": "code",
   "execution_count": 38,
   "id": "85ebd346",
   "metadata": {},
   "outputs": [
    {
     "name": "stdout",
     "output_type": "stream",
     "text": [
      "[ 5.  9. 10.  1.  8.  2.  9.  8. 10.  1.]\n"
     ]
    }
   ],
   "source": [
    "print(np.copysign(np.ceil(Z), Z))"
   ]
  },
  {
   "cell_type": "code",
   "execution_count": 39,
   "id": "2e73a088",
   "metadata": {},
   "outputs": [
    {
     "name": "stdout",
     "output_type": "stream",
     "text": [
      "[ 5.  9. 10.  1.  8.  2.  9.  8. 10.  1.]\n"
     ]
    }
   ],
   "source": [
    "print(np.copysign(np.ceil(np.abs(Z)), Z))"
   ]
  },
  {
   "cell_type": "markdown",
   "id": "53f47438",
   "metadata": {},
   "source": [
    "#### 30. How to find common values between two arrays? (★☆☆)"
   ]
  },
  {
   "cell_type": "code",
   "execution_count": 40,
   "id": "981db6ec",
   "metadata": {},
   "outputs": [
    {
     "name": "stdout",
     "output_type": "stream",
     "text": [
      "[3 4 5]\n"
     ]
    }
   ],
   "source": [
    "ar1=  np.array([1,2,3,4,5])\n",
    "arr2 = np.array([3,4,5,8,9,10])\n",
    "intersection = np.intersect1d(ar1, arr2)\n",
    "print(intersection)"
   ]
  },
  {
   "cell_type": "markdown",
   "id": "51cf9109",
   "metadata": {},
   "source": [
    "#### 31. How to ignore all numpy warnings (not recommended)? (★☆☆)"
   ]
  },
  {
   "cell_type": "code",
   "execution_count": 41,
   "id": "09ba7521",
   "metadata": {},
   "outputs": [],
   "source": [
    "defaults = np.seterr(all=\"ignore\")\n",
    "z = np.ones(1) / 0\n"
   ]
  },
  {
   "cell_type": "code",
   "execution_count": 42,
   "id": "9546c268",
   "metadata": {},
   "outputs": [],
   "source": [
    "_ = np.seterr(**defaults)"
   ]
  },
  {
   "cell_type": "code",
   "execution_count": 43,
   "id": "3c4b839d",
   "metadata": {},
   "outputs": [
    {
     "name": "stdout",
     "output_type": "stream",
     "text": [
      "[inf]\n"
     ]
    },
    {
     "name": "stderr",
     "output_type": "stream",
     "text": [
      "C:\\Program Files\\KMSpico\\temp\\ipykernel_8544\\2398573293.py:1: RuntimeWarning: divide by zero encountered in divide\n",
      "  z = np.ones(1) / 0\n"
     ]
    }
   ],
   "source": [
    "z = np.ones(1) / 0\n",
    "print(z)"
   ]
  },
  {
   "cell_type": "markdown",
   "id": "948a691b",
   "metadata": {},
   "source": [
    "#### 32. Is the following expressions true? (★☆☆)\n",
    "```python\n",
    "np.sqrt(-1) == np.emath.sqrt(-1)\n",
    "```"
   ]
  },
  {
   "cell_type": "code",
   "execution_count": 44,
   "id": "6d8f745b",
   "metadata": {},
   "outputs": [
    {
     "name": "stderr",
     "output_type": "stream",
     "text": [
      "C:\\Program Files\\KMSpico\\temp\\ipykernel_8544\\244602691.py:1: RuntimeWarning: invalid value encountered in sqrt\n",
      "  np.sqrt(-1) == np.emath.sqrt(-1)\n"
     ]
    },
    {
     "data": {
      "text/plain": [
       "np.False_"
      ]
     },
     "execution_count": 44,
     "metadata": {},
     "output_type": "execute_result"
    }
   ],
   "source": [
    "np.sqrt(-1) == np.emath.sqrt(-1)"
   ]
  },
  {
   "cell_type": "markdown",
   "id": "d1a8992e",
   "metadata": {},
   "source": [
    "#### 33. How to get the dates of yesterday, today and tomorrow? (★☆☆)"
   ]
  },
  {
   "cell_type": "code",
   "execution_count": 45,
   "id": "31a1ade2",
   "metadata": {},
   "outputs": [
    {
     "name": "stdout",
     "output_type": "stream",
     "text": [
      "Today: 2025-10-15 yesterday: 2025-10-14 tomorrow: 2025-10-16\n"
     ]
    }
   ],
   "source": [
    "import datetime\n",
    "today = datetime.date.today()   \n",
    "yesterday = today - datetime.timedelta(days=1)\n",
    "tomorrow = today + datetime.timedelta(days=1)\n",
    "print(\"Today:\", today, \"yesterday:\", yesterday, \"tomorrow:\", tomorrow)"
   ]
  },
  {
   "cell_type": "code",
   "execution_count": 46,
   "id": "36f7cd7d",
   "metadata": {},
   "outputs": [
    {
     "data": {
      "text/plain": [
       "(np.datetime64('2025-10-14'),\n",
       " np.datetime64('2025-10'),\n",
       " np.datetime64('2025-10-16'))"
      ]
     },
     "execution_count": 46,
     "metadata": {},
     "output_type": "execute_result"
    }
   ],
   "source": [
    "today = np.datetime64('now', 'M')\n",
    "yest = np.datetime64('today', 'D') - np.timedelta64(1, 'D')\n",
    "tomor = np.datetime64('today', 'D') + np.timedelta64(1, 'D')\n",
    "yest,today, tomor"
   ]
  },
  {
   "cell_type": "markdown",
   "id": "01378794",
   "metadata": {},
   "source": [
    "#### 34. How to get all the dates corresponding to the month of July 2016? (★★☆)"
   ]
  },
  {
   "cell_type": "code",
   "execution_count": 47,
   "id": "928c55c6",
   "metadata": {},
   "outputs": [
    {
     "name": "stdout",
     "output_type": "stream",
     "text": [
      "    August 2000\n",
      "Mo Tu We Th Fr Sa Su\n",
      "    1  2  3  4  5  6\n",
      " 7  8  9 10 11 12 13\n",
      "14 15 16 17 18 19 20\n",
      "21 22 23 24 25 26 27\n",
      "28 29 30 31\n",
      "\n"
     ]
    }
   ],
   "source": [
    "import calendar\n",
    "y = 2000\n",
    "m = 8\n",
    "print(calendar.month(y, m))"
   ]
  },
  {
   "cell_type": "code",
   "execution_count": 48,
   "id": "ecbe7c8e",
   "metadata": {},
   "outputs": [
    {
     "name": "stdout",
     "output_type": "stream",
     "text": [
      "['2016-07-01' '2016-07-02' '2016-07-03' '2016-07-04' '2016-07-05'\n",
      " '2016-07-06' '2016-07-07' '2016-07-08' '2016-07-09' '2016-07-10'\n",
      " '2016-07-11' '2016-07-12' '2016-07-13' '2016-07-14' '2016-07-15'\n",
      " '2016-07-16' '2016-07-17' '2016-07-18' '2016-07-19' '2016-07-20'\n",
      " '2016-07-21' '2016-07-22' '2016-07-23' '2016-07-24' '2016-07-25'\n",
      " '2016-07-26' '2016-07-27' '2016-07-28' '2016-07-29' '2016-07-30'\n",
      " '2016-07-31' '2016-08-01' '2016-08-02' '2016-08-03' '2016-08-04'\n",
      " '2016-08-05' '2016-08-06' '2016-08-07' '2016-08-08' '2016-08-09'\n",
      " '2016-08-10' '2016-08-11' '2016-08-12' '2016-08-13' '2016-08-14'\n",
      " '2016-08-15' '2016-08-16' '2016-08-17' '2016-08-18' '2016-08-19'\n",
      " '2016-08-20' '2016-08-21' '2016-08-22' '2016-08-23' '2016-08-24'\n",
      " '2016-08-25' '2016-08-26' '2016-08-27' '2016-08-28' '2016-08-29'\n",
      " '2016-08-30' '2016-08-31']\n"
     ]
    }
   ],
   "source": [
    "Z = np.arange('2016-07', '2016-09', dtype='datetime64[D]')\n",
    "print(Z)"
   ]
  },
  {
   "cell_type": "markdown",
   "id": "e3f8fe94",
   "metadata": {},
   "source": [
    "#### 35. How to compute ((A+B)*(-A/2)) in place (without copy)? (★★☆)"
   ]
  },
  {
   "cell_type": "code",
   "execution_count": 49,
   "id": "14e478d5",
   "metadata": {},
   "outputs": [
    {
     "name": "stdout",
     "output_type": "stream",
     "text": [
      "[1. 1. 1.]\n",
      "[2. 2. 2.]\n"
     ]
    }
   ],
   "source": [
    "A = np.ones(3)*1\n",
    "B = B = np.ones(3)*2\n",
    "print(A)\n",
    "print(B)"
   ]
  },
  {
   "cell_type": "code",
   "execution_count": 50,
   "id": "0fb54bd2",
   "metadata": {},
   "outputs": [
    {
     "data": {
      "text/plain": [
       "array([-0.5, -0.5, -0.5])"
      ]
     },
     "execution_count": 50,
     "metadata": {},
     "output_type": "execute_result"
    }
   ],
   "source": [
    "add = np.add(A,B,out=B)\n",
    "np.divide(A,2,out=B)\n",
    "np.negative(A,out=A)\n",
    "np.multiply(A,B,out=A)\n"
   ]
  },
  {
   "cell_type": "markdown",
   "id": "5c4d58c9",
   "metadata": {},
   "source": [
    "#### 36. Extract the integer part of a random array of positive numbers using 4 different methods (★★☆)"
   ]
  },
  {
   "cell_type": "code",
   "execution_count": 51,
   "id": "586beded",
   "metadata": {},
   "outputs": [
    {
     "name": "stdout",
     "output_type": "stream",
     "text": [
      "[0.53179784 4.22561693 4.22813251 5.99887256 3.12091033 6.53444139\n",
      " 5.43159897 7.69293498 3.9251745  5.89757601]\n"
     ]
    }
   ],
   "source": [
    "Z = np.random.uniform(0,10,10)\n",
    "print(Z)"
   ]
  },
  {
   "cell_type": "code",
   "execution_count": 52,
   "id": "b099db68",
   "metadata": {},
   "outputs": [
    {
     "name": "stdout",
     "output_type": "stream",
     "text": [
      "[0. 4. 4. 5. 3. 6. 5. 7. 3. 5.]\n",
      "[0. 4. 4. 5. 3. 6. 5. 7. 3. 5.]\n",
      "[0. 4. 4. 5. 3. 6. 5. 7. 3. 5.]\n",
      "[0. 4. 4. 5. 3. 6. 5. 7. 3. 5.]\n",
      "[0 4 4 5 3 6 5 7 3 5]\n"
     ]
    }
   ],
   "source": [
    "# Method 1\n",
    "print(Z-Z%1)\n",
    "print(np.floor(Z))\n",
    "print(Z//1)\n",
    "print(np.trunc(Z))\n",
    "print(Z.astype(int))"
   ]
  },
  {
   "cell_type": "code",
   "execution_count": 53,
   "id": "2a1d92f1",
   "metadata": {},
   "outputs": [
    {
     "data": {
      "text/plain": [
       "16"
      ]
     },
     "execution_count": 53,
     "metadata": {},
     "output_type": "execute_result"
    }
   ],
   "source": [
    "50//3"
   ]
  },
  {
   "cell_type": "markdown",
   "id": "62628653",
   "metadata": {},
   "source": [
    "#### 37. Create a 5x5 matrix with row values ranging from 0 to 4 (★★☆)"
   ]
  },
  {
   "cell_type": "code",
   "execution_count": 54,
   "id": "e57763b3",
   "metadata": {},
   "outputs": [
    {
     "name": "stdout",
     "output_type": "stream",
     "text": [
      "[[0. 0. 0. 0. 0.]\n",
      " [0. 0. 0. 0. 0.]\n",
      " [0. 0. 0. 0. 0.]\n",
      " [0. 0. 0. 0. 0.]\n",
      " [0. 0. 0. 0. 0.]]\n",
      "\n",
      " After adding the value from 0-4\n",
      "\n",
      "[[0. 1. 2. 3. 4.]\n",
      " [0. 1. 2. 3. 4.]\n",
      " [0. 1. 2. 3. 4.]\n",
      " [0. 1. 2. 3. 4.]\n",
      " [0. 1. 2. 3. 4.]]\n"
     ]
    }
   ],
   "source": [
    "arr = np.zeros((5,5))\n",
    "print(arr)\n",
    "print(\"\\n After adding the value from 0-4\\n\")\n",
    "arr +=np.arange(5)\n",
    "print(arr)"
   ]
  },
  {
   "cell_type": "markdown",
   "id": "d3d46d64",
   "metadata": {},
   "source": [
    "#### 38. Consider a generator function that generates 10 integers and use it to build an array (★☆☆)"
   ]
  },
  {
   "cell_type": "code",
   "execution_count": 55,
   "id": "24590d8c",
   "metadata": {},
   "outputs": [
    {
     "data": {
      "text/plain": [
       "array([0., 1., 2., 3., 4., 5., 6., 7., 8., 9.], dtype=float32)"
      ]
     },
     "execution_count": 55,
     "metadata": {},
     "output_type": "execute_result"
    }
   ],
   "source": [
    "iter = ([x for x in range(10)])\n",
    "iter\n",
    "\n",
    "\n",
    "np.fromiter(iter, np.float32)"
   ]
  },
  {
   "cell_type": "markdown",
   "id": "5e1e51e4",
   "metadata": {},
   "source": [
    "#### 39. Create a vector of size 10 with values ranging from 0 to 1, both excluded (★★☆)"
   ]
  },
  {
   "cell_type": "code",
   "execution_count": 56,
   "id": "def73884",
   "metadata": {},
   "outputs": [
    {
     "name": "stdout",
     "output_type": "stream",
     "text": [
      "[0.         0.11111111 0.22222222 0.33333333 0.44444444 0.55555556\n",
      " 0.66666667 0.77777778 0.88888889 1.        ]\n"
     ]
    }
   ],
   "source": [
    "x = np.linspace(0, 1, num=10, endpoint=True)\n",
    "print(x)"
   ]
  },
  {
   "cell_type": "markdown",
   "id": "9e19964c",
   "metadata": {},
   "source": [
    "#### 40. Create a random vector of size 10 and sort it (★★☆)"
   ]
  },
  {
   "cell_type": "code",
   "execution_count": 57,
   "id": "ec302eb1",
   "metadata": {},
   "outputs": [
    {
     "name": "stdout",
     "output_type": "stream",
     "text": [
      "[0.14643858 0.20972221 0.26482506 0.28710018 0.60207605 0.61043263\n",
      " 0.67727044 0.77003159 0.78495061 0.83233184]\n",
      "[0.14643858 0.20972221 0.26482506 0.28710018 0.60207605 0.61043263\n",
      " 0.67727044 0.77003159 0.78495061 0.83233184]\n"
     ]
    }
   ],
   "source": [
    "arr = np.random.random(10)\n",
    "print(np.sort(arr))\n",
    "print(np.sort(arr[::-1]))"
   ]
  },
  {
   "cell_type": "markdown",
   "id": "13a034e2",
   "metadata": {},
   "source": [
    "#### 41. How to sum a small array faster than np.sum? (★★☆)"
   ]
  },
  {
   "cell_type": "code",
   "execution_count": 58,
   "id": "b09a3551",
   "metadata": {},
   "outputs": [
    {
     "name": "stdout",
     "output_type": "stream",
     "text": [
      "45\n"
     ]
    }
   ],
   "source": [
    "z = np.arange(10)\n",
    "z = np.add.reduce(z)\n",
    "print(z)"
   ]
  },
  {
   "cell_type": "markdown",
   "id": "32d10473",
   "metadata": {},
   "source": [
    "#### 42. Consider two random arrays A and B, check if they are equal (★★☆)"
   ]
  },
  {
   "cell_type": "code",
   "execution_count": 59,
   "id": "5ebb1103",
   "metadata": {},
   "outputs": [
    {
     "name": "stdout",
     "output_type": "stream",
     "text": [
      "[1 0 0 0 1 0]\n",
      "[1 1 0 1 1 0]\n",
      "[ True False  True False  True  True]\n",
      "False\n"
     ]
    }
   ],
   "source": [
    "X = np.random.randint(0,2,6)\n",
    "print(X)\n",
    "Y = np.random.randint(0,2,6)\n",
    "print(Y)\n",
    "\n",
    "print(np.isclose(X,Y))\n",
    "print(np.allclose(X,Y))"
   ]
  },
  {
   "cell_type": "markdown",
   "id": "a50474b0",
   "metadata": {},
   "source": [
    "#### 43. Make an array immutable (read-only) (★★☆)"
   ]
  },
  {
   "cell_type": "code",
   "execution_count": 60,
   "id": "db6fe176",
   "metadata": {},
   "outputs": [
    {
     "name": "stdout",
     "output_type": "stream",
     "text": [
      "Test the array is read-only or not:\n",
      "Try to change the value of the first element:\n"
     ]
    }
   ],
   "source": [
    "# Importing the NumPy library and aliasing it as 'np'\n",
    "import numpy as np\n",
    "\n",
    "# Creating a NumPy array 'x' filled with zeros, containing 10 elements\n",
    "x = np.zeros(10)\n",
    "\n",
    "# Setting the 'writeable' flag of the array 'x' to False, making it read-only\n",
    "x.flags.writeable = False\n",
    "\n",
    "# Printing a message to test whether the array is read-only or not\n",
    "print(\"Test the array is read-only or not:\")\n",
    "\n",
    "# Attempting to change the value of the first element in the array 'x'\n",
    "print(\"Try to change the value of the first element:\")\n",
    "# x[0] = 1  # This line will raise an error since the array is read-only \n"
   ]
  },
  {
   "cell_type": "markdown",
   "id": "b7a6093e",
   "metadata": {},
   "source": [
    "#### 44. Consider a random 10x2 matrix representing cartesian coordinates, convert them to polar coordinates (★★☆)"
   ]
  },
  {
   "cell_type": "code",
   "execution_count": 61,
   "id": "4479c48d",
   "metadata": {},
   "outputs": [
    {
     "name": "stdout",
     "output_type": "stream",
     "text": [
      "[0.89725274 0.93207932 0.78237444 0.6242079  0.81217375 0.2507646\n",
      " 0.86213809 0.65175825 0.14497835 0.37801628]\n",
      "[0.94259129 0.47823671 0.76783124 0.66476192 0.09540191 0.86186992\n",
      " 0.3866018  0.20603352 0.69946473 0.35745191]\n"
     ]
    }
   ],
   "source": [
    "z = np.random.random((10, 2))\n",
    "z\n",
    "# extracting  the columns into x and y \n",
    "x,y = z[:,0], z[:, 1]\n",
    "# x, y = z[:, 0], z[:, 1]\n",
    "print(x)\n",
    "print(y)"
   ]
  },
  {
   "cell_type": "code",
   "execution_count": 62,
   "id": "2492eca0",
   "metadata": {},
   "outputs": [
    {
     "name": "stdout",
     "output_type": "stream",
     "text": [
      "[1.30136114 1.04760785 1.09620919 0.9118903  0.81775774 0.89760941\n",
      " 0.9448508  0.68354856 0.7143316  0.5202578 ]\n"
     ]
    }
   ],
   "source": [
    "# Calculating the Euclidean distance (r) using the formula sqrt(x^2 + y^2)\n",
    "r = np.sqrt(x**2 + y**2)\n",
    "print(r)"
   ]
  },
  {
   "cell_type": "code",
   "execution_count": 63,
   "id": "5fff6629",
   "metadata": {},
   "outputs": [
    {
     "name": "stdout",
     "output_type": "stream",
     "text": [
      "[1.30136114 1.04760785 1.09620919 0.9118903  0.81775774 0.89760941\n",
      " 0.9448508  0.68354856 0.7143316  0.5202578 ]\n",
      "[0.81003578 0.4740614  0.77601697 0.81685013 0.11692907 1.28765903\n",
      " 0.42154099 0.30617898 1.36641985 0.75744453]\n"
     ]
    }
   ],
   "source": [
    "# Calculating the angles (t) using arctan2() function, which returns the arctangent of y/x in radians\n",
    "t = np.arctan2(y, x)\n",
    "\n",
    "# Displaying the calculated Euclidean distances (r)\n",
    "print(r)\n",
    "\n",
    "# Displaying the calculated angles (t) in radians\n",
    "print(t)"
   ]
  },
  {
   "cell_type": "markdown",
   "id": "934f889c",
   "metadata": {},
   "source": [
    "#### 45. Create random vector of size 10 and replace the maximum value by 0 (★★☆)"
   ]
  },
  {
   "cell_type": "code",
   "execution_count": 64,
   "id": "4b576814",
   "metadata": {},
   "outputs": [
    {
     "data": {
      "text/plain": [
       "array([0.54573308, 0.55773394, 0.18516315, 0.60946874, 0.3987221 ,\n",
       "       0.25166065, 0.76716793, 0.81418646, 0.20139925, 0.62092422])"
      ]
     },
     "execution_count": 64,
     "metadata": {},
     "output_type": "execute_result"
    }
   ],
   "source": [
    "vec = np.random.rand(10)\n",
    "vec"
   ]
  },
  {
   "cell_type": "code",
   "execution_count": 65,
   "id": "794e5477",
   "metadata": {},
   "outputs": [
    {
     "data": {
      "text/plain": [
       "np.float64(0.8141864591149384)"
      ]
     },
     "execution_count": 65,
     "metadata": {},
     "output_type": "execute_result"
    }
   ],
   "source": [
    "max_val = np.max(vec)\n",
    "max_val"
   ]
  },
  {
   "cell_type": "code",
   "execution_count": 66,
   "id": "a186984c",
   "metadata": {},
   "outputs": [
    {
     "name": "stdout",
     "output_type": "stream",
     "text": [
      "[0.55794707 0.77020576 0.70158247 0.08049949 0.66360968 0.21906787\n",
      " 0.83247427 0.5523461  0.38025999 0.        ]\n"
     ]
    }
   ],
   "source": [
    "Z = np.random.random(10)\n",
    "Z[Z.argmax()] = 0\n",
    "print(Z)"
   ]
  },
  {
   "cell_type": "markdown",
   "id": "d4f6e2e1",
   "metadata": {},
   "source": [
    "#### 46. Create a structured array with `x` and `y` coordinates covering the [0,1]x[0,1] area (★★☆)"
   ]
  },
  {
   "cell_type": "code",
   "execution_count": 67,
   "id": "f90f969b",
   "metadata": {},
   "outputs": [
    {
     "name": "stdout",
     "output_type": "stream",
     "text": [
      "[[(0.  , 0.  ) (0.25, 0.  ) (0.5 , 0.  ) (0.75, 0.  ) (1.  , 0.  )]\n",
      " [(0.  , 0.25) (0.25, 0.25) (0.5 , 0.25) (0.75, 0.25) (1.  , 0.25)]\n",
      " [(0.  , 0.5 ) (0.25, 0.5 ) (0.5 , 0.5 ) (0.75, 0.5 ) (1.  , 0.5 )]\n",
      " [(0.  , 0.75) (0.25, 0.75) (0.5 , 0.75) (0.75, 0.75) (1.  , 0.75)]\n",
      " [(0.  , 1.  ) (0.25, 1.  ) (0.5 , 1.  ) (0.75, 1.  ) (1.  , 1.  )]]\n"
     ]
    }
   ],
   "source": [
    "Z = np.zeros((5,5), [('x',float),('y',float)])\n",
    "Z['x'], Z['y'] = np.meshgrid(np.linspace(0,1,5),\n",
    "                             np.linspace(0,1,5))\n",
    "print(Z)"
   ]
  },
  {
   "cell_type": "markdown",
   "id": "bc9c88d3",
   "metadata": {},
   "source": [
    "#### 47. Given two arrays, X and Y, construct the Cauchy matrix C (Cij =1/(xi - yj)) (★★☆)"
   ]
  },
  {
   "cell_type": "code",
   "execution_count": 68,
   "id": "e90ad595",
   "metadata": {},
   "outputs": [
    {
     "name": "stdout",
     "output_type": "stream",
     "text": [
      "[[-3 -4 -5]\n",
      " [-2 -3 -4]\n",
      " [-1 -2 -3]]\n"
     ]
    }
   ],
   "source": [
    "# Create two 1D NumPy arrays\n",
    "array_1 = np.array([1, 2, 3])\n",
    "array_2 = np.array([4, 5, 6])\n",
    "\n",
    "outer_sub=np.subtract.outer(array_1,array_2)\n",
    "print(outer_sub)"
   ]
  },
  {
   "cell_type": "markdown",
   "id": "a840a52f",
   "metadata": {},
   "source": [
    "#### 48. Print the minimum and maximum representable values for each numpy scalar type (★★☆)"
   ]
  },
  {
   "cell_type": "code",
   "execution_count": 69,
   "id": "d2eb3b4a",
   "metadata": {},
   "outputs": [
    {
     "name": "stdout",
     "output_type": "stream",
     "text": [
      "-128\n",
      "127\n",
      "-2147483648\n",
      "2147483647\n",
      "-9223372036854775808\n",
      "9223372036854775807\n",
      "-3.4028235e+38\n",
      "3.4028235e+38\n",
      "-1.7976931348623157e+308\n",
      "1.7976931348623157e+308\n"
     ]
    }
   ],
   "source": [
    "for dtype in [np.int8, np.int32, np.int64]:\n",
    "   print(np.iinfo(dtype).min)\n",
    "   print(np.iinfo(dtype).max)\n",
    "for dtype in [np.float32, np.float64]:\n",
    "   print(np.finfo(dtype).min)\n",
    "   print(np.finfo(dtype).max)"
   ]
  },
  {
   "cell_type": "markdown",
   "id": "0a0819d5",
   "metadata": {},
   "source": [
    "#### 49. How to print all the values of an array? (★★☆)"
   ]
  },
  {
   "cell_type": "code",
   "execution_count": 70,
   "id": "d76dbf55",
   "metadata": {},
   "outputs": [
    {
     "name": "stdout",
     "output_type": "stream",
     "text": [
      "[[0. 0. 0. 0.]\n",
      " [0. 0. 0. 0.]\n",
      " [0. 0. 0. 0.]\n",
      " [0. 0. 0. 0.]]\n"
     ]
    }
   ],
   "source": [
    "# np.set_printoptions(threshold=float(\"inf\"))\n",
    "x = np.zeros((4, 4))\n",
    "print(x)"
   ]
  },
  {
   "cell_type": "markdown",
   "id": "50c62214",
   "metadata": {},
   "source": [
    "#### 50. How to find the closest value (to a given scalar) in a vector? (★★☆)"
   ]
  },
  {
   "cell_type": "code",
   "execution_count": 71,
   "id": "24b45bb5",
   "metadata": {},
   "outputs": [
    {
     "name": "stdout",
     "output_type": "stream",
     "text": [
      "Original array:\n",
      "[ 0  1  2  3  4  5  6  7  8  9 10 11 12 13 14 15 16 17 18 19 20 21 22 23\n",
      " 24 25 26 27 28 29 30 31 32 33 34 35 36 37 38 39 40 41 42 43 44 45 46 47\n",
      " 48 49 50 51 52 53 54 55 56 57 58 59 60 61 62 63 64 65 66 67 68 69 70 71\n",
      " 72 73 74 75 76 77 78 79 80 81 82 83 84 85 86 87 88 89 90 91 92 93 94 95\n",
      " 96 97 98 99]\n"
     ]
    }
   ],
   "source": [
    "# Creating an array 'x' containing numbers from 0 to 99 using arange() function\n",
    "x = np.arange(100)\n",
    "\n",
    "# Displaying the original array 'x'\n",
    "print(\"Original array:\")\n",
    "print(x)\n"
   ]
  },
  {
   "cell_type": "code",
   "execution_count": 72,
   "id": "17bd84d7-490d-4b2f-bec5-06c46f9cdb1d",
   "metadata": {},
   "outputs": [
    {
     "name": "stdout",
     "output_type": "stream",
     "text": [
      "Value to compare:\n",
      "99.89926868039916\n"
     ]
    }
   ],
   "source": [
    "# genrating the random number for comparison\n",
    "a = np.random.uniform(0,100)\n",
    "# Displaying the value used for comparison\n",
    "print(\"Value to compare:\")\n",
    "print(a)"
   ]
  },
  {
   "cell_type": "code",
   "execution_count": 73,
   "id": "49b909a3-2c00-45e9-a79a-d1cd4c267502",
   "metadata": {},
   "outputs": [
    {
     "data": {
      "text/plain": [
       "array([99.89926868, 98.89926868, 97.89926868, 96.89926868, 95.89926868,\n",
       "       94.89926868, 93.89926868, 92.89926868, 91.89926868, 90.89926868,\n",
       "       89.89926868, 88.89926868, 87.89926868, 86.89926868, 85.89926868,\n",
       "       84.89926868, 83.89926868, 82.89926868, 81.89926868, 80.89926868,\n",
       "       79.89926868, 78.89926868, 77.89926868, 76.89926868, 75.89926868,\n",
       "       74.89926868, 73.89926868, 72.89926868, 71.89926868, 70.89926868,\n",
       "       69.89926868, 68.89926868, 67.89926868, 66.89926868, 65.89926868,\n",
       "       64.89926868, 63.89926868, 62.89926868, 61.89926868, 60.89926868,\n",
       "       59.89926868, 58.89926868, 57.89926868, 56.89926868, 55.89926868,\n",
       "       54.89926868, 53.89926868, 52.89926868, 51.89926868, 50.89926868,\n",
       "       49.89926868, 48.89926868, 47.89926868, 46.89926868, 45.89926868,\n",
       "       44.89926868, 43.89926868, 42.89926868, 41.89926868, 40.89926868,\n",
       "       39.89926868, 38.89926868, 37.89926868, 36.89926868, 35.89926868,\n",
       "       34.89926868, 33.89926868, 32.89926868, 31.89926868, 30.89926868,\n",
       "       29.89926868, 28.89926868, 27.89926868, 26.89926868, 25.89926868,\n",
       "       24.89926868, 23.89926868, 22.89926868, 21.89926868, 20.89926868,\n",
       "       19.89926868, 18.89926868, 17.89926868, 16.89926868, 15.89926868,\n",
       "       14.89926868, 13.89926868, 12.89926868, 11.89926868, 10.89926868,\n",
       "        9.89926868,  8.89926868,  7.89926868,  6.89926868,  5.89926868,\n",
       "        4.89926868,  3.89926868,  2.89926868,  1.89926868,  0.89926868])"
      ]
     },
     "execution_count": 73,
     "metadata": {},
     "output_type": "execute_result"
    }
   ],
   "source": [
    "(np.abs(x - a))"
   ]
  },
  {
   "cell_type": "code",
   "execution_count": 74,
   "id": "baf342dd-f2b7-4a01-bb40-88838dd106a7",
   "metadata": {},
   "outputs": [
    {
     "name": "stdout",
     "output_type": "stream",
     "text": [
      "99\n"
     ]
    }
   ],
   "source": [
    "index = (np.abs(x - a)).argmin()\n",
    "print(index)"
   ]
  },
  {
   "cell_type": "markdown",
   "id": "4c5a5116",
   "metadata": {},
   "source": [
    "#### 51. Create a structured array representing a position (x,y) and a color (r,g,b) (★★☆)"
   ]
  },
  {
   "cell_type": "code",
   "execution_count": 75,
   "id": "275806b2",
   "metadata": {},
   "outputs": [
    {
     "name": "stdout",
     "output_type": "stream",
     "text": [
      "[(([0.], [0.]), ([0.], [0.], [0.])) (([0.], [0.]), ([0.], [0.], [0.]))\n",
      " (([0.], [0.]), ([0.], [0.], [0.])) (([0.], [0.]), ([0.], [0.], [0.]))\n",
      " (([0.], [0.]), ([0.], [0.], [0.])) (([0.], [0.]), ([0.], [0.], [0.]))\n",
      " (([0.], [0.]), ([0.], [0.], [0.])) (([0.], [0.]), ([0.], [0.], [0.]))\n",
      " (([0.], [0.]), ([0.], [0.], [0.])) (([0.], [0.]), ([0.], [0.], [0.]))]\n"
     ]
    }
   ],
   "source": [
    "Z = np.zeros(10, [ ('position', [ ('x', float, 1),\n",
    "                                  ('y', float, 1)]),\n",
    "                   ('color',    [ ('r', float, 1),\n",
    "                                  ('g', float, 1),\n",
    "                                  ('b', float, 1)])])\n",
    "print(Z)"
   ]
  },
  {
   "cell_type": "markdown",
   "id": "1d3399ca",
   "metadata": {},
   "source": [
    "#### 52. Consider a random vector with shape (100,2) representing coordinates, find point by point distances (★★☆)"
   ]
  },
  {
   "cell_type": "code",
   "execution_count": 76,
   "id": "67eae5bf",
   "metadata": {},
   "outputs": [
    {
     "name": "stdout",
     "output_type": "stream",
     "text": [
      "[[0.42730103 0.53305894]\n",
      " [0.85681157 0.49053851]\n",
      " [0.58627884 0.5852719 ]\n",
      " [0.91614846 0.25842603]\n",
      " [0.8117694  0.70689643]\n",
      " [0.94812377 0.58679241]\n",
      " [0.06476153 0.77483189]\n",
      " [0.66635503 0.98382123]\n",
      " [0.72143095 0.66291115]\n",
      " [0.273207   0.26858385]]\n"
     ]
    }
   ],
   "source": [
    "a = np.random.random((10, 2))\n",
    "x, y = np.atleast_2d(a[:, 0], a[:, 1])\n",
    "print(a)"
   ]
  },
  {
   "cell_type": "code",
   "execution_count": 77,
   "id": "1835de9d-a704-4da7-ae27-00130d793dec",
   "metadata": {},
   "outputs": [
    {
     "name": "stdout",
     "output_type": "stream",
     "text": [
      "[[0.         0.43161011 0.16733241 0.56070941 0.42194241 0.52358725\n",
      "  0.43576261 0.51022882 0.32151828 0.30609157]\n",
      " [0.43161011 0.         0.28663979 0.23957686 0.22099671 0.13267528\n",
      "  0.84152599 0.52877361 0.21918083 0.62438623]\n",
      " [0.16733241 0.28663979 0.         0.4643729  0.25620016 0.36184813\n",
      "  0.55489936 0.40651416 0.15586516 0.44531483]\n",
      " [0.56070941 0.23957686 0.4643729  0.         0.46045705 0.32991954\n",
      "  0.99575836 0.76719942 0.44891327 0.64302169]\n",
      " [0.42194241 0.22099671 0.25620016 0.46045705 0.         0.18170715\n",
      "  0.75009066 0.31278216 0.10047757 0.69438274]\n",
      " [0.52358725 0.13267528 0.36184813 0.32991954 0.18170715 0.\n",
      "  0.9031543  0.48685265 0.23913113 0.74616978]\n",
      " [0.43576261 0.84152599 0.55489936 0.99575836 0.75009066 0.9031543\n",
      "  0.         0.63686049 0.66613886 0.54748205]\n",
      " [0.51022882 0.52877361 0.40651416 0.76719942 0.31278216 0.48685265\n",
      "  0.63686049 0.         0.32560196 0.8161678 ]\n",
      " [0.32151828 0.21918083 0.15586516 0.44891327 0.10047757 0.23913113\n",
      "  0.66613886 0.32560196 0.         0.5969914 ]\n",
      " [0.30609157 0.62438623 0.44531483 0.64302169 0.69438274 0.74616978\n",
      "  0.54748205 0.8161678  0.5969914  0.        ]]\n"
     ]
    }
   ],
   "source": [
    "d = np.sqrt((x - x.T) ** 2 + (y - y.T) ** 2)\n",
    "print(d)"
   ]
  },
  {
   "cell_type": "code",
   "execution_count": 78,
   "id": "1d0029aa-60bf-477a-871f-987e39a8629c",
   "metadata": {},
   "outputs": [
    {
     "name": "stdout",
     "output_type": "stream",
     "text": [
      "Requirement already satisfied: scipy in d:\\self learning\\basic python\\venv\\lib\\site-packages (1.16.2)\n",
      "Requirement already satisfied: numpy<2.6,>=1.25.2 in d:\\self learning\\basic python\\venv\\lib\\site-packages (from scipy) (2.3.3)\n"
     ]
    }
   ],
   "source": [
    "!pip install scipy\n"
   ]
  },
  {
   "cell_type": "code",
   "execution_count": 79,
   "id": "4a555fe1-cba6-4e30-9752-0e9f348fbc1d",
   "metadata": {},
   "outputs": [
    {
     "name": "stdout",
     "output_type": "stream",
     "text": [
      "[[0.         0.62578648 1.02952643 0.10431537 0.70332515 0.8463038\n",
      "  0.33159897 0.88493297 0.62307155 0.24557085]\n",
      " [0.62578648 0.         0.41177772 0.71383541 0.3919387  0.6455455\n",
      "  0.42776807 0.44542861 0.45675253 0.71300843]\n",
      " [1.02952643 0.41177772 0.         1.12180279 0.6604836  0.71548105\n",
      "  0.77739662 0.39790881 0.77535858 1.07823205]\n",
      " [0.10431537 0.71383541 1.12180279 0.         0.74777344 0.94771076\n",
      "  0.4356179  0.98860536 0.6531057  0.30378506]\n",
      " [0.70332515 0.3919387  0.6604836  0.74777344 0.         1.03172252\n",
      "  0.68724885 0.83083787 0.13349076 0.89219199]\n",
      " [0.8463038  0.6455455  0.71548105 0.94771076 1.03172252 0.\n",
      "  0.52199437 0.31916894 1.06981367 0.71884366]\n",
      " [0.33159897 0.42776807 0.77739662 0.4356179  0.68724885 0.52199437\n",
      "  0.         0.56421194 0.66792711 0.3010491 ]\n",
      " [0.88493297 0.44542861 0.39790881 0.98860536 0.83083787 0.31916894\n",
      "  0.56421194 0.         0.90210338 0.84384008]\n",
      " [0.62307155 0.45675253 0.77535858 0.6531057  0.13349076 1.06981367\n",
      "  0.66792711 0.90210338 0.         0.83336098]\n",
      " [0.24557085 0.71300843 1.07823205 0.30378506 0.89219199 0.71884366\n",
      "  0.3010491  0.84384008 0.83336098 0.        ]]\n"
     ]
    }
   ],
   "source": [
    "# Much faster with scipy\n",
    "import scipy\n",
    "# Thanks Gavin Heverly-Coulson (#issue 1)\n",
    "import scipy.spatial\n",
    "\n",
    "Z = np.random.random((10,2))\n",
    "D = scipy.spatial.distance.cdist(Z,Z)\n",
    "print(D)"
   ]
  },
  {
   "cell_type": "markdown",
   "id": "003ff920",
   "metadata": {},
   "source": [
    "#### 53. How to convert a float (32 bits) array into an integer (32 bits) array in place?"
   ]
  },
  {
   "cell_type": "code",
   "execution_count": 80,
   "id": "76245e6d",
   "metadata": {},
   "outputs": [
    {
     "ename": "AttributeError",
     "evalue": "'float' object has no attribute 'astype'",
     "output_type": "error",
     "traceback": [
      "\u001b[31m---------------------------------------------------------------------------\u001b[39m",
      "\u001b[31mAttributeError\u001b[39m                            Traceback (most recent call last)",
      "\u001b[36mCell\u001b[39m\u001b[36m \u001b[39m\u001b[32mIn[80]\u001b[39m\u001b[32m, line 2\u001b[39m\n\u001b[32m      1\u001b[39m x=np.random.randn()\n\u001b[32m----> \u001b[39m\u001b[32m2\u001b[39m x = \u001b[43mx\u001b[49m\u001b[43m.\u001b[49m\u001b[43mastype\u001b[49m(\u001b[33m'\u001b[39m\u001b[33mint64\u001b[39m\u001b[33m'\u001b[39m)\n\u001b[32m      3\u001b[39m \u001b[38;5;28mprint\u001b[39m(x.dtype)  \n\u001b[32m      4\u001b[39m \u001b[38;5;28mprint\u001b[39m(x)\n",
      "\u001b[31mAttributeError\u001b[39m: 'float' object has no attribute 'astype'"
     ]
    }
   ],
   "source": [
    "x=np.random.randn()\n",
    "x = x.astype('int64')\n",
    "print(x.dtype)  \n",
    "print(x)\n"
   ]
  },
  {
   "cell_type": "code",
   "execution_count": null,
   "id": "92d6389f-2321-4e44-a96b-c1cab1480e81",
   "metadata": {},
   "outputs": [],
   "source": [
    "'''he problem with your code lies in the first line (x = np.random.randn()), as it creates a single random floating-point object, \n",
    "and the astype() method cannot be applied to a single float. To fix this, you can create a list of numbers and pass it to the np.array()\n",
    "function to convert it into an array. Then, you can use the astype() method to change the data type of the array. Here is the corrected code:'''\n",
    "x=np.random.randn(20)\n",
    "x = x.astype('int64')\n",
    "print(x.dtype)  \n",
    "print(x)"
   ]
  },
  {
   "cell_type": "code",
   "execution_count": null,
   "id": "a9bd6c11-e24f-4797-a8a3-d1780dfeb4c9",
   "metadata": {},
   "outputs": [],
   "source": [
    "\n",
    "# create a float (32 bits) array\n",
    "x = np.array([1.0, 2.0, 3.0], dtype=np.float32)\n",
    "# convert to an integer (32 bits) array in place\n",
    "x = x.astype('int32')\n",
    "print(x.dtype)  \n",
    "print(x) "
   ]
  },
  {
   "cell_type": "code",
   "execution_count": null,
   "id": "0ac617bc-68be-4935-929e-fc823c6ad5fc",
   "metadata": {},
   "outputs": [],
   "source": []
  },
  {
   "cell_type": "markdown",
   "id": "0c99eac4",
   "metadata": {},
   "source": [
    "#### 54. How to read the following file? (★★☆)\n",
    "```\n",
    "1, 2, 3, 4, 5\n",
    "6,  ,  , 7, 8\n",
    " ,  , 9,10,11\n",
    "```"
   ]
  },
  {
   "cell_type": "code",
   "execution_count": null,
   "id": "55c6bf8c",
   "metadata": {},
   "outputs": [],
   "source": [
    "from io import StringIO\n",
    "\n",
    "# Fake file\n",
    "s = StringIO('''1, 2, 3, 4, 5\n",
    "\n",
    "                6,  ,  , 7, 8\n",
    "\n",
    "                 ,  , 9,10,11\n",
    "''')\n",
    "Z = np.genfromtxt(s, delimiter=\",\", dtype=np.int)\n",
    "print(Z)"
   ]
  },
  {
   "cell_type": "markdown",
   "id": "8cd30360",
   "metadata": {},
   "source": [
    "#### 55. What is the equivalent of enumerate for numpy arrays? (★★☆)"
   ]
  },
  {
   "cell_type": "code",
   "execution_count": null,
   "id": "608315ba",
   "metadata": {},
   "outputs": [],
   "source": [
    "arr = np.array([10, 20, 30, 40, 50])\n",
    "Z = np.arange(9).reshape(3,3)\n",
    "print(Z)\n",
    "for index, value in enumerate(Z):\n",
    "    print(f\"Index: {index}, Value: {value}\")\n",
    "for index in np.ndindex(Z.shape):\n",
    "    print(index, Z[index])\n",
    "\n"
   ]
  },
  {
   "cell_type": "code",
   "execution_count": null,
   "id": "c201c9cc-e790-40e4-a2ef-94c380a2e48e",
   "metadata": {},
   "outputs": [],
   "source": [
    "arr = np.array([[1, 2], [3, 4]])\n",
    "\n",
    "print(\"Using enumerate():\")\n",
    "for i, row in enumerate(arr):\n",
    "    print(f\"Row {i}: {row}\")\n",
    "\n",
    "print(\"\\nUsing ndenumerate():\")\n",
    "for index, value in np.ndenumerate(arr):\n",
    "    print(f\"Index: {index}, Value: {value}\")"
   ]
  },
  {
   "cell_type": "markdown",
   "id": "4823a294",
   "metadata": {},
   "source": [
    "#### 56. Generate a generic 2D Gaussian-like array (★★☆)"
   ]
  },
  {
   "cell_type": "code",
   "execution_count": null,
   "id": "9b3b682d",
   "metadata": {},
   "outputs": [],
   "source": [
    "# Generating 2D grids 'x' and 'y' using meshgrid with 10 evenly spaced points from -1 to 1\n",
    "x, y = np.meshgrid(np.linspace(-1, 1, 10), np.linspace(-1, 1, 10))\n",
    "# Calculating the Euclidean distance 'd' from the origin using the generated grids 'x' and 'y'\n",
    "d = np.sqrt(x*x + y*y)\n",
    "# Defining parameters sigma and mu for a Gaussian-like distribution\n",
    "sigma, mu = 1.0, 0.0\n",
    "# Calculating the Gaussian-like distribution 'g' based on the distance 'd', sigma, and mu\n",
    "g = np.exp(-((d - mu)**2 / (2.0 * sigma**2)))\n",
    "\n",
    "# Printing a message indicating a 2D Gaussian-like array will be displayed\n",
    "print(\"2D Gaussian-like array:\")\n",
    "\n",
    "# Printing the calculated 2D Gaussian-like array 'g'\n",
    "print(g) \n"
   ]
  },
  {
   "cell_type": "markdown",
   "id": "2dd8891d",
   "metadata": {},
   "source": [
    "#### 57. How to randomly place p elements in a 2D array? (★★☆)"
   ]
  },
  {
   "cell_type": "code",
   "execution_count": null,
   "id": "a55c52dc",
   "metadata": {},
   "outputs": [],
   "source": [
    "array = np.zeros((4,4))\n",
    "print(\"origional array \\n\", array)\n",
    "np.put(array, np.random.choice(range(4*4), 4, replace=False ),2.5)\n",
    "print(\"array after putting random value \\n\",array)"
   ]
  },
  {
   "cell_type": "markdown",
   "id": "270b6834",
   "metadata": {},
   "source": [
    "#### 58. Subtract the mean of each row of a matrix (★★☆)"
   ]
  },
  {
   "cell_type": "code",
   "execution_count": null,
   "id": "814080c9",
   "metadata": {},
   "outputs": [],
   "source": [
    "# Displaying the message indicating the original matrix\n",
    "print(\"Original matrix:\\n\")\n",
    "\n",
    "# Creating a random matrix of size (5, 10)\n",
    "X = np.random.rand(3, 5)\n",
    "print(X)\n",
    "Y = X - X.mean(axis=1, keepdims=True)\n",
    "mean = X.mean(axis=1,keepdims=True)\n",
    "print(mean)\n",
    "print(Y)\n"
   ]
  },
  {
   "cell_type": "markdown",
   "id": "52c92916",
   "metadata": {},
   "source": [
    "#### 59. How to sort an array by the nth column? (★★☆)"
   ]
  },
  {
   "cell_type": "code",
   "execution_count": null,
   "id": "c6ebac6d",
   "metadata": {},
   "outputs": [],
   "source": [
    "print(\"origional Array\\n\")\n",
    "nums = np.random.randint(0,10,(3,3))\n",
    "print(nums)\n",
    "print(\"Sorted array by nth column\")\n",
    "print(nums[nums[:,0].argsort()])"
   ]
  },
  {
   "cell_type": "markdown",
   "id": "05cef60b",
   "metadata": {},
   "source": [
    "#### 60. How to tell if a given 2D array has null columns? (★★☆)"
   ]
  },
  {
   "cell_type": "code",
   "execution_count": null,
   "id": "7979b467",
   "metadata": {},
   "outputs": [],
   "source": [
    "print(\"Origional Array \\n\")\n",
    "nums = np.random.randint(0,5,(4,10))\n",
    "print(nums)\n",
    "# Cheacking the array has null value or not\n",
    "print((~nums.any(axis=0)).any())"
   ]
  },
  {
   "cell_type": "markdown",
   "id": "4891fdf5",
   "metadata": {},
   "source": [
    "#### 61. Find the nearest value from a given value in an array (★★☆)"
   ]
  },
  {
   "cell_type": "code",
   "execution_count": 83,
   "id": "b38950fd",
   "metadata": {},
   "outputs": [
    {
     "name": "stdout",
     "output_type": "stream",
     "text": [
      "[2.43184733 4.57581557 1.34950771 2.46774261 1.81491653]\n",
      "4.575815569326276\n"
     ]
    }
   ],
   "source": [
    "# Generating an array of 5 random numbers between 1 and 12 using np.random.uniform()\n",
    "x = np.random.uniform(1, 12, 5)\n",
    "print(x)\n",
    "# Setting a value 'v' to find the number closest to it in the array 'x'\n",
    "v = 4\n",
    "# Finding the value 'n' in 'x' that is closest to 'v'\n",
    "# Using np.abs(x - v).argmin() to get the index of the element in 'x' closest to 'v'\n",
    "# Accessing the element using x.flat[index] to get the closest value 'n'\n",
    "n = x.flat[np.abs(x - v).argmin()]\n",
    "\n",
    "# Printing the value 'n' that is closest to 'v'\n",
    "print(n) \n"
   ]
  },
  {
   "cell_type": "markdown",
   "id": "b34bfbc7",
   "metadata": {},
   "source": [
    "#### 62. Considering two arrays with shape (1,3) and (3,1), how to compute their sum using an iterator? (★★☆)"
   ]
  },
  {
   "cell_type": "code",
   "execution_count": null,
   "id": "aa7eb006",
   "metadata": {},
   "outputs": [],
   "source": []
  },
  {
   "cell_type": "markdown",
   "id": "77a27b83",
   "metadata": {},
   "source": [
    "#### 63. Create an array class that has a name attribute (★★☆)"
   ]
  },
  {
   "cell_type": "code",
   "execution_count": null,
   "id": "a2a83936",
   "metadata": {},
   "outputs": [],
   "source": []
  },
  {
   "cell_type": "markdown",
   "id": "f7f5d229",
   "metadata": {},
   "source": [
    "#### 64. Consider a given vector, how to add 1 to each element indexed by a second vector (be careful with repeated indices)? (★★★)"
   ]
  },
  {
   "cell_type": "code",
   "execution_count": null,
   "id": "9b8f8f48",
   "metadata": {},
   "outputs": [],
   "source": []
  },
  {
   "cell_type": "markdown",
   "id": "b067fca8",
   "metadata": {},
   "source": [
    "#### 65. How to accumulate elements of a vector (X) to an array (F) based on an index list (I)? (★★★)"
   ]
  },
  {
   "cell_type": "code",
   "execution_count": null,
   "id": "f983f8ba",
   "metadata": {},
   "outputs": [],
   "source": []
  },
  {
   "cell_type": "markdown",
   "id": "765e2b8e",
   "metadata": {},
   "source": [
    "#### 66. Considering a (w,h,3) image of (dtype=ubyte), compute the number of unique colors (★★☆)"
   ]
  },
  {
   "cell_type": "code",
   "execution_count": null,
   "id": "7572d90d",
   "metadata": {},
   "outputs": [],
   "source": []
  },
  {
   "cell_type": "markdown",
   "id": "02743317",
   "metadata": {},
   "source": [
    "#### 67. Considering a four dimensions array, how to get sum over the last two axis at once? (★★★)"
   ]
  },
  {
   "cell_type": "code",
   "execution_count": null,
   "id": "980b5c45",
   "metadata": {},
   "outputs": [],
   "source": []
  },
  {
   "cell_type": "markdown",
   "id": "fe8b8107",
   "metadata": {},
   "source": [
    "#### 68. Considering a one-dimensional vector D, how to compute means of subsets of D using a vector S of same size describing subset  indices? (★★★)"
   ]
  },
  {
   "cell_type": "code",
   "execution_count": null,
   "id": "9c17c8c9",
   "metadata": {},
   "outputs": [],
   "source": []
  },
  {
   "cell_type": "markdown",
   "id": "7efa1173",
   "metadata": {},
   "source": [
    "#### 69. How to get the diagonal of a dot product? (★★★)"
   ]
  },
  {
   "cell_type": "code",
   "execution_count": null,
   "id": "59fc6a51",
   "metadata": {},
   "outputs": [],
   "source": []
  },
  {
   "cell_type": "markdown",
   "id": "b72adc30",
   "metadata": {},
   "source": [
    "#### 70. Consider the vector [1, 2, 3, 4, 5], how to build a new vector with 3 consecutive zeros interleaved between each value? (★★★)"
   ]
  },
  {
   "cell_type": "code",
   "execution_count": null,
   "id": "94b582b4",
   "metadata": {},
   "outputs": [],
   "source": []
  },
  {
   "cell_type": "markdown",
   "id": "fafa05b8",
   "metadata": {},
   "source": [
    "#### 71. Consider an array of dimension (5,5,3), how to multiply it by an array with dimensions (5,5)? (★★★)"
   ]
  },
  {
   "cell_type": "code",
   "execution_count": null,
   "id": "0dbb5bd4",
   "metadata": {},
   "outputs": [],
   "source": []
  },
  {
   "cell_type": "markdown",
   "id": "35a2bae5",
   "metadata": {},
   "source": [
    "#### 72. How to swap two rows of an array? (★★★)"
   ]
  },
  {
   "cell_type": "code",
   "execution_count": null,
   "id": "d63b30c3",
   "metadata": {},
   "outputs": [],
   "source": []
  },
  {
   "cell_type": "markdown",
   "id": "b760fc57",
   "metadata": {},
   "source": [
    "#### 73. Consider a set of 10 triplets describing 10 triangles (with shared vertices), find the set of unique line segments composing all the  triangles (★★★)"
   ]
  },
  {
   "cell_type": "code",
   "execution_count": null,
   "id": "01738774",
   "metadata": {},
   "outputs": [],
   "source": []
  },
  {
   "cell_type": "markdown",
   "id": "2d28cdaa",
   "metadata": {},
   "source": [
    "#### 74. Given a sorted array C that corresponds to a bincount, how to produce an array A such that np.bincount(A) == C? (★★★)"
   ]
  },
  {
   "cell_type": "code",
   "execution_count": null,
   "id": "8423859b",
   "metadata": {},
   "outputs": [],
   "source": []
  },
  {
   "cell_type": "markdown",
   "id": "5f4cafbd",
   "metadata": {},
   "source": [
    "#### 75. How to compute averages using a sliding window over an array? (★★★)"
   ]
  },
  {
   "cell_type": "code",
   "execution_count": null,
   "id": "62d6d514",
   "metadata": {},
   "outputs": [],
   "source": []
  },
  {
   "cell_type": "markdown",
   "id": "575d8bb4",
   "metadata": {},
   "source": [
    "#### 76. Consider a one-dimensional array Z, build a two-dimensional array whose first row is (Z[0],Z[1],Z[2]) and each subsequent row is  shifted by 1 (last row should be (Z[-3],Z[-2],Z[-1]) (★★★)"
   ]
  },
  {
   "cell_type": "code",
   "execution_count": null,
   "id": "2a41d341",
   "metadata": {},
   "outputs": [],
   "source": []
  },
  {
   "cell_type": "markdown",
   "id": "80dc0b2a",
   "metadata": {},
   "source": [
    "#### 77. How to negate a boolean, or to change the sign of a float inplace? (★★★)"
   ]
  },
  {
   "cell_type": "code",
   "execution_count": null,
   "id": "6fc68014",
   "metadata": {},
   "outputs": [],
   "source": []
  },
  {
   "cell_type": "markdown",
   "id": "7288634d",
   "metadata": {},
   "source": [
    "#### 78. Consider 2 sets of points P0,P1 describing lines (2d) and a point p, how to compute distance from p to each line i (P0[i],P1[i])? (★★★)"
   ]
  },
  {
   "cell_type": "code",
   "execution_count": null,
   "id": "4602caa6",
   "metadata": {},
   "outputs": [],
   "source": []
  },
  {
   "cell_type": "markdown",
   "id": "e1880e79",
   "metadata": {},
   "source": [
    "#### 79. Consider 2 sets of points P0,P1 describing lines (2d) and a set of points P, how to compute distance from each point j (P[j]) to each line i (P0[i],P1[i])? (★★★)"
   ]
  },
  {
   "cell_type": "code",
   "execution_count": null,
   "id": "a14e151b",
   "metadata": {},
   "outputs": [],
   "source": []
  },
  {
   "cell_type": "markdown",
   "id": "b8a2a287",
   "metadata": {},
   "source": [
    "#### 80. Consider an arbitrary array, write a function that extracts a subpart with a fixed shape and centered on a given element (pad with a `fill` value when necessary) (★★★)"
   ]
  },
  {
   "cell_type": "code",
   "execution_count": null,
   "id": "86af1186",
   "metadata": {},
   "outputs": [],
   "source": []
  },
  {
   "cell_type": "markdown",
   "id": "caa64150",
   "metadata": {},
   "source": [
    "#### 81. Consider an array Z = [1,2,3,4,5,6,7,8,9,10,11,12,13,14], how to generate an array R = [[1,2,3,4], [2,3,4,5], [3,4,5,6], ..., [11,12,13,14]]? (★★★)"
   ]
  },
  {
   "cell_type": "code",
   "execution_count": null,
   "id": "4e7cc696",
   "metadata": {},
   "outputs": [],
   "source": []
  },
  {
   "cell_type": "markdown",
   "id": "9444c83b",
   "metadata": {},
   "source": [
    "#### 82. Compute a matrix rank (★★★)"
   ]
  },
  {
   "cell_type": "code",
   "execution_count": null,
   "id": "9e5c1d64",
   "metadata": {},
   "outputs": [],
   "source": []
  },
  {
   "cell_type": "markdown",
   "id": "6eef9f33",
   "metadata": {},
   "source": [
    "#### 83. How to find the most frequent value in an array?"
   ]
  },
  {
   "cell_type": "code",
   "execution_count": null,
   "id": "9fb60e52",
   "metadata": {},
   "outputs": [],
   "source": []
  },
  {
   "cell_type": "markdown",
   "id": "65f370f9",
   "metadata": {},
   "source": [
    "#### 84. Extract all the contiguous 3x3 blocks from a random 10x10 matrix (★★★)"
   ]
  },
  {
   "cell_type": "code",
   "execution_count": null,
   "id": "65ade1a6",
   "metadata": {},
   "outputs": [],
   "source": []
  },
  {
   "cell_type": "markdown",
   "id": "845ad7f8",
   "metadata": {},
   "source": [
    "#### 85. Create a 2D array subclass such that Z[i,j] == Z[j,i] (★★★)"
   ]
  },
  {
   "cell_type": "code",
   "execution_count": null,
   "id": "30b1ba71",
   "metadata": {},
   "outputs": [],
   "source": []
  },
  {
   "cell_type": "markdown",
   "id": "adc48f02",
   "metadata": {},
   "source": [
    "#### 86. Consider a set of p matrices with shape (n,n) and a set of p vectors with shape (n,1). How to compute the sum of of the p matrix products at once? (result has shape (n,1)) (★★★)"
   ]
  },
  {
   "cell_type": "code",
   "execution_count": null,
   "id": "ec798e90",
   "metadata": {},
   "outputs": [],
   "source": []
  },
  {
   "cell_type": "markdown",
   "id": "9efb34b2",
   "metadata": {},
   "source": [
    "#### 87. Consider a 16x16 array, how to get the block-sum (block size is 4x4)? (★★★)"
   ]
  },
  {
   "cell_type": "code",
   "execution_count": null,
   "id": "ea79f40b",
   "metadata": {},
   "outputs": [],
   "source": []
  },
  {
   "cell_type": "markdown",
   "id": "a9368578",
   "metadata": {},
   "source": [
    "#### 88. How to implement the Game of Life using numpy arrays? (★★★)"
   ]
  },
  {
   "cell_type": "code",
   "execution_count": null,
   "id": "315e9f11",
   "metadata": {},
   "outputs": [],
   "source": []
  },
  {
   "cell_type": "markdown",
   "id": "8c598af3",
   "metadata": {},
   "source": [
    "#### 89. How to get the n largest values of an array (★★★)"
   ]
  },
  {
   "cell_type": "code",
   "execution_count": null,
   "id": "cba8d433",
   "metadata": {},
   "outputs": [],
   "source": []
  },
  {
   "cell_type": "markdown",
   "id": "036a3bb0",
   "metadata": {},
   "source": [
    "#### 90. Given an arbitrary number of vectors, build the cartesian product (every combination of every item) (★★★)"
   ]
  },
  {
   "cell_type": "code",
   "execution_count": null,
   "id": "d712972d",
   "metadata": {},
   "outputs": [],
   "source": []
  },
  {
   "cell_type": "markdown",
   "id": "36487aab",
   "metadata": {},
   "source": [
    "#### 91. How to create a record array from a regular array? (★★★)"
   ]
  },
  {
   "cell_type": "code",
   "execution_count": null,
   "id": "9779dbac",
   "metadata": {},
   "outputs": [],
   "source": []
  },
  {
   "cell_type": "markdown",
   "id": "9f178562",
   "metadata": {},
   "source": [
    "#### 92. Consider a large vector Z, compute Z to the power of 3 using 3 different methods (★★★)"
   ]
  },
  {
   "cell_type": "code",
   "execution_count": null,
   "id": "b08000b8",
   "metadata": {},
   "outputs": [],
   "source": []
  },
  {
   "cell_type": "markdown",
   "id": "86acaf60",
   "metadata": {},
   "source": [
    "#### 93. Consider two arrays A and B of shape (8,3) and (2,2). How to find rows of A that contain elements of each row of B regardless of the order of the elements in B? (★★★)"
   ]
  },
  {
   "cell_type": "code",
   "execution_count": null,
   "id": "793b26d4",
   "metadata": {},
   "outputs": [],
   "source": []
  },
  {
   "cell_type": "markdown",
   "id": "c71b9df2",
   "metadata": {},
   "source": [
    "#### 94. Considering a 10x3 matrix, extract rows with unequal values (e.g. [2,2,3]) (★★★)"
   ]
  },
  {
   "cell_type": "code",
   "execution_count": null,
   "id": "494069f0",
   "metadata": {},
   "outputs": [],
   "source": []
  },
  {
   "cell_type": "markdown",
   "id": "1a8ae7c1",
   "metadata": {},
   "source": [
    "#### 95. Convert a vector of ints into a matrix binary representation (★★★)"
   ]
  },
  {
   "cell_type": "code",
   "execution_count": null,
   "id": "d5e967b8",
   "metadata": {},
   "outputs": [],
   "source": []
  },
  {
   "cell_type": "markdown",
   "id": "edef1198",
   "metadata": {},
   "source": [
    "#### 96. Given a two dimensional array, how to extract unique rows? (★★★)"
   ]
  },
  {
   "cell_type": "code",
   "execution_count": null,
   "id": "fa14799b",
   "metadata": {},
   "outputs": [],
   "source": []
  },
  {
   "cell_type": "markdown",
   "id": "575598a1",
   "metadata": {},
   "source": [
    "#### 97. Considering 2 vectors A & B, write the einsum equivalent of inner, outer, sum, and mul function (★★★)"
   ]
  },
  {
   "cell_type": "code",
   "execution_count": null,
   "id": "9da72f6e",
   "metadata": {},
   "outputs": [],
   "source": []
  },
  {
   "cell_type": "markdown",
   "id": "88e2796a",
   "metadata": {},
   "source": [
    "#### 98. Considering a path described by two vectors (X,Y), how to sample it using equidistant samples (★★★)?"
   ]
  },
  {
   "cell_type": "code",
   "execution_count": null,
   "id": "c17314f8",
   "metadata": {},
   "outputs": [],
   "source": []
  },
  {
   "cell_type": "markdown",
   "id": "8b25b7bd",
   "metadata": {},
   "source": [
    "#### 99. Given an integer n and a 2D array X, select from X the rows which can be interpreted as draws from a multinomial distribution with n degrees, i.e., the rows which only contain integers and which sum to n. (★★★)"
   ]
  },
  {
   "cell_type": "code",
   "execution_count": null,
   "id": "f0dc48cd",
   "metadata": {},
   "outputs": [],
   "source": []
  },
  {
   "cell_type": "markdown",
   "id": "b7068c76",
   "metadata": {},
   "source": [
    "#### 100. Compute bootstrapped 95% confidence intervals for the mean of a 1D array X (i.e., resample the elements of an array with replacement N times, compute the mean of each sample, and then compute percentiles over the means). (★★★)"
   ]
  },
  {
   "cell_type": "code",
   "execution_count": null,
   "id": "3c234201",
   "metadata": {},
   "outputs": [],
   "source": []
  }
 ],
 "metadata": {
  "kernelspec": {
   "display_name": "Python 3 (ipykernel)",
   "language": "python",
   "name": "python3"
  },
  "language_info": {
   "codemirror_mode": {
    "name": "ipython",
    "version": 3
   },
   "file_extension": ".py",
   "mimetype": "text/x-python",
   "name": "python",
   "nbconvert_exporter": "python",
   "pygments_lexer": "ipython3",
   "version": "3.12.8"
  },
  "widgets": {
   "application/vnd.jupyter.widget-state+json": {
    "state": {},
    "version_major": 2,
    "version_minor": 0
   }
  }
 },
 "nbformat": 4,
 "nbformat_minor": 5
}
