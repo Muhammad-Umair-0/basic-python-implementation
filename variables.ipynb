{
 "cells": [
  {
   "cell_type": "markdown",
   "id": "7c1b8488",
   "metadata": {},
   "source": [
    "\n",
    "## Python Variables\n",
    "A variable is a reserved memory area (memory address) to store value.\n",
    "we no need to create the variable serately we can directly assin the value "
   ]
  },
  {
   "cell_type": "code",
   "execution_count": null,
   "id": "04ab077f",
   "metadata": {},
   "outputs": [],
   "source": [
    "name = \"John\"  # string assignment\n",
    "age = 25  # integer assignment\n",
    "salary = 25800.60  # float assignment\n",
    "\n",
    "print(name)  # John\n",
    "print(age)  # 25\n",
    "print(salary)  # 25800.6"
   ]
  },
  {
   "cell_type": "markdown",
   "id": "c1b1ab58",
   "metadata": {},
   "source": [
    "## variable type\n",
    " variables are dynamically typed and not subject to the data type restriction. A variable may be assigned to a value of one type, and then later, we can also re-assigned a value of a different type. Let’s see the example."
   ]
  },
  {
   "cell_type": "code",
   "execution_count": 1,
   "id": "ee5c7e05",
   "metadata": {},
   "outputs": [
    {
     "name": "stdout",
     "output_type": "stream",
     "text": [
      "10\n",
      "<class 'int'>\n",
      "55\n",
      "Now I'm a string\n",
      "<class 'str'>\n",
      "35.69\n",
      "<class 'float'>\n"
     ]
    }
   ],
   "source": [
    "var = 10\n",
    "print(var)  # 10\n",
    "# print its type\n",
    "print(type(var))  # <class 'int'>\n",
    "\n",
    "# assign different integer value to var\n",
    "var = 55\n",
    "print(var)  # 55\n",
    "\n",
    "# change var to string\n",
    "var = \"Now I'm a string\"\n",
    "print(var)  # Now I'm a string\n",
    "# print its type\n",
    "print(type(var))  # <class 'str'>\n",
    "\n",
    "# change var to float\n",
    "var = 35.69\n",
    "print(var)  # 35.69\n",
    "# print its type\n",
    "print(type(var))  # <class 'float'>"
   ]
  },
  {
   "cell_type": "code",
   "execution_count": null,
   "id": "8fcb41d2",
   "metadata": {},
   "outputs": [],
   "source": []
  },
  {
   "cell_type": "code",
   "execution_count": null,
   "id": "14515c94",
   "metadata": {},
   "outputs": [],
   "source": []
  }
 ],
 "metadata": {
  "kernelspec": {
   "display_name": "Python 3",
   "language": "python",
   "name": "python3"
  },
  "language_info": {
   "codemirror_mode": {
    "name": "ipython",
    "version": 3
   },
   "file_extension": ".py",
   "mimetype": "text/x-python",
   "name": "python",
   "nbconvert_exporter": "python",
   "pygments_lexer": "ipython3",
   "version": "3.12.7"
  }
 },
 "nbformat": 4,
 "nbformat_minor": 5
}
