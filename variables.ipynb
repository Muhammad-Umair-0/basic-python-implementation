{
 "cells": [
  {
   "cell_type": "markdown",
   "id": "7c1b8488",
   "metadata": {},
   "source": [
    "\n",
    "## Python Variables\n",
    "A variable is a reserved memory area (memory address) to store value."
   ]
  },
  {
   "cell_type": "markdown",
   "id": "f0573f6c",
   "metadata": {},
   "source": []
  }
 ],
 "metadata": {
  "language_info": {
   "name": "python"
  }
 },
 "nbformat": 4,
 "nbformat_minor": 5
}
