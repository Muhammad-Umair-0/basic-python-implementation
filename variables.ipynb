{
 "cells": [
  {
   "cell_type": "markdown",
   "id": "7c1b8488",
   "metadata": {},
   "source": [
    "\n",
    "## Python Variables\n",
    "A variable is a reserved memory area (memory address) to store value.\n",
    "we no need to create the variable serately we can directly assin the value "
   ]
  },
  {
   "cell_type": "code",
   "execution_count": null,
   "id": "04ab077f",
   "metadata": {},
   "outputs": [],
   "source": [
    "name = \"John\"  # string assignment\n",
    "age = 25  # integer assignment\n",
    "salary = 25800.60  # float assignment\n",
    "\n",
    "print(name)  # John\n",
    "print(age)  # 25\n",
    "print(salary)  # 25800.6"
   ]
  },
  {
   "cell_type": "markdown",
   "id": "c1b1ab58",
   "metadata": {},
   "source": [
    "## variable type\n",
    " variables are dynamically typed and not subject to the data type restriction. A variable may be assigned to a value of one type, and then later, we can also re-assigned a value of a different type. Let’s see the example."
   ]
  },
  {
   "cell_type": "code",
   "execution_count": 1,
   "id": "ee5c7e05",
   "metadata": {},
   "outputs": [
    {
     "name": "stdout",
     "output_type": "stream",
     "text": [
      "10\n",
      "<class 'int'>\n",
      "55\n",
      "Now I'm a string\n",
      "<class 'str'>\n",
      "35.69\n",
      "<class 'float'>\n"
     ]
    }
   ],
   "source": [
    "var = 10\n",
    "print(var)  # 10\n",
    "# print its type\n",
    "print(type(var))  # <class 'int'>\n",
    "\n",
    "# assign different integer value to var\n",
    "var = 55\n",
    "print(var)  # 55\n",
    "\n",
    "# change var to string\n",
    "var = \"Now I'm a string\"\n",
    "print(var)  # Now I'm a string\n",
    "# print its type\n",
    "print(type(var))  # <class 'str'>\n",
    "\n",
    "# change var to float\n",
    "var = 35.69\n",
    "print(var)  # 35.69\n",
    "# print its type\n",
    "print(type(var))  # <class 'float'>"
   ]
  },
  {
   "cell_type": "markdown",
   "id": "da9d5827",
   "metadata": {},
   "source": [
    "### integer"
   ]
  },
  {
   "cell_type": "code",
   "execution_count": 2,
   "id": "8fcb41d2",
   "metadata": {},
   "outputs": [
    {
     "name": "stdout",
     "output_type": "stream",
     "text": [
      "28\n",
      "<class 'int'>\n"
     ]
    }
   ],
   "source": [
    "age = 28\n",
    "print(age)\n",
    "print(type(age))"
   ]
  },
  {
   "cell_type": "markdown",
   "id": "63c11aa7",
   "metadata": {},
   "source": [
    "### float\n"
   ]
  },
  {
   "cell_type": "code",
   "execution_count": 3,
   "id": "14515c94",
   "metadata": {},
   "outputs": [
    {
     "name": "stdout",
     "output_type": "stream",
     "text": [
      "22.5\n",
      "<class 'float'>\n"
     ]
    }
   ],
   "source": [
    "a = 22.5\n",
    "print(a)\n",
    "print(type(a))"
   ]
  },
  {
   "cell_type": "markdown",
   "id": "cb6b3fc3",
   "metadata": {},
   "source": [
    "### Complex\n",
    "The complex is the numbers that come with the real and imaginary part. A complex number is in the form of a+bj, where a and b contain integers or floating-point values."
   ]
  },
  {
   "cell_type": "code",
   "execution_count": 4,
   "id": "5d74bd3d",
   "metadata": {},
   "outputs": [
    {
     "name": "stdout",
     "output_type": "stream",
     "text": [
      "(3+5j)\n",
      "<class 'complex'>\n"
     ]
    }
   ],
   "source": [
    "a = 3 + 5j\n",
    "print(a)  # (3+5j)\n",
    "print(type(a))  # <class 'complex'>"
   ]
  },
  {
   "cell_type": "markdown",
   "id": "56c2d359",
   "metadata": {},
   "source": [
    "### string \n"
   ]
  },
  {
   "cell_type": "code",
   "execution_count": 5,
   "id": "b1068819",
   "metadata": {},
   "outputs": [
    {
     "name": "stdout",
     "output_type": "stream",
     "text": [
      "Meri_Tech\n",
      "M\n",
      "ri_\n",
      "9\n",
      "Meri_TechTEST\n"
     ]
    }
   ],
   "source": [
    "# create a variable of type string\n",
    "str = 'Meri_Tech'\n",
    "# prints complete string\n",
    "print(str)  # PYnative\n",
    "\n",
    "# prints first character of the string\n",
    "print(str[0])  # P\n",
    "\n",
    "# prints characters starting from 2nd to 5th\n",
    "print(str[2:5])  # nat\n",
    "\n",
    "# length of string\n",
    "print(len(str))  # 8\n",
    "\n",
    "# concatenate string\n",
    "print(str + \"TEST\")  # PYnativeTEST"
   ]
  },
  {
   "cell_type": "markdown",
   "id": "6bfaf546",
   "metadata": {},
   "source": [
    "## List type variable\n",
    "\n",
    "If we want to represent a group of elements (or value) as a single entity, we should go for the list variable type. For example, we can use them to store student names. In the list, the insertion order of elements is preserved. That means, in which order elements are inserted in the list, the order will be intact.\n",
    "\n",
    "Read: Complete Guide on Python lists\n",
    "\n",
    "The list can be accessed in two ways, either positive or negative index.  The list has the following characteristics:\n",
    "\n",
    "In the list insertion order of elements is preserved.\n",
    "\n",
    "-->Heterogeneous (all types of data types int, float, string) elements are allowed.\n",
    "\n",
    "-->Duplicates elements are permitted.\n",
    "\n",
    "-->The list is mutable(can change).\n",
    "\n",
    "-->Growable in nature means based on our requirement, we can increase or decrease the list’s size.\n",
    "\n",
    "-->List elements should be enclosed within square brackets []."
   ]
  },
  {
   "cell_type": "code",
   "execution_count": 6,
   "id": "bd7765f3",
   "metadata": {},
   "outputs": [
    {
     "name": "stdout",
     "output_type": "stream",
     "text": [
      "['Jessa', 10, 20, 'Kelly', 50, 10.5]\n",
      "Jessa\n",
      "10.5\n",
      "[10, 20]\n",
      "Emma\n",
      "['Emma', 10, 20, 'Kelly', 50, 10.5, 100]\n"
     ]
    }
   ],
   "source": [
    "# create list\n",
    "my_list = ['Jessa', 10, 20, 'Kelly', 50, 10.5]\n",
    "# print entire list\n",
    "print(my_list)  # ['Jessa', 10, 20, 'Kelly', 50, 10.5]\n",
    "\n",
    "# Accessing 1st element of a list\n",
    "print(my_list[0])  # 'Jessa'\n",
    "\n",
    "# Accessing  last element of a\n",
    "print(my_list[-1])  # 10.5\n",
    "\n",
    "# access chunks of list data\n",
    "print(my_list[1:3])  # [10, 20]\n",
    "\n",
    "# Modifying first element of a list\n",
    "my_list[0] = 'Emma'\n",
    "print(my_list[0])  # 'Emma'\n",
    "\n",
    "# add one more elements to list\n",
    "my_list.append(100)\n",
    "print(my_list)  # ['Emma', 10, 20, 'Kelly', 50, 10.5, 100]"
   ]
  },
  {
   "cell_type": "markdown",
   "id": "d5aa1b08",
   "metadata": {},
   "source": [
    "## data type of variable\n",
    "No matter what is stored in a variable (object), a variable can be any type like int, float, str, list, tuple, dict, etc. There is a built-in function called type() to get the data type of any variable.\n",
    "\n",
    "The type() function has a simple and straightforward syntax."
   ]
  },
  {
   "cell_type": "code",
   "execution_count": 7,
   "id": "b7125ebd",
   "metadata": {},
   "outputs": [
    {
     "name": "stdout",
     "output_type": "stream",
     "text": [
      "<class 'int'>\n",
      "<class 'float'>\n",
      "<class 'str'>\n",
      "<class 'list'>\n",
      "<class 'set'>\n",
      "<class 'tuple'>\n",
      "<class 'dict'>\n"
     ]
    }
   ],
   "source": [
    "a = 100\n",
    "print(type(a))  # class 'int'\n",
    "\n",
    "b = 100.568\n",
    "print(type(b))  # class 'float'\n",
    "\n",
    "str1 = \"PYnative\"\n",
    "print(type(str1))  # class 'str'\n",
    "\n",
    "my_list = [10, 20, 20.5, 100]\n",
    "print(type(my_list))  # class 'list'\n",
    "\n",
    "my_set = {'Emma', 'Jessa', 'Kelly'}\n",
    "print(type(my_set))  # class 'set'\n",
    "\n",
    "my_tuple = (5, 10, 15, 20, 25)\n",
    "print(type(my_tuple))  # class 'tuple'\n",
    "\n",
    "my_dict = {1: 'William', 2: 'John'}\n",
    "print(type(my_dict))  # class 'dict'"
   ]
  },
  {
   "cell_type": "markdown",
   "id": "0a340b90",
   "metadata": {},
   "source": [
    "## delete a variable\n",
    "Use the del keyword to delete the variable. Once we delete the variable, it will not be longer accessible and eligible for the garbage collector."
   ]
  },
  {
   "cell_type": "markdown",
   "id": "4a4ab66c",
   "metadata": {},
   "source": [
    "## Variable’s case-sensitive\n",
    "Python is a case-sensitive language. If we define a variable with names a = 100 and A =200 then, Python differentiates between a and A. These variables are treated as two different variables (or objects)."
   ]
  },
  {
   "cell_type": "code",
   "execution_count": 8,
   "id": "7b2c7073",
   "metadata": {},
   "outputs": [
    {
     "name": "stdout",
     "output_type": "stream",
     "text": [
      "100\n",
      "200\n",
      "300\n"
     ]
    }
   ],
   "source": [
    "a = 100\n",
    "A = 200\n",
    "\n",
    "# value of a\n",
    "print(a)  # 100\n",
    "# Value of A\n",
    "print(A)  # 200\n",
    "\n",
    "a = a + A\n",
    "print(a)  # 300"
   ]
  },
  {
   "cell_type": "markdown",
   "id": "e4fe458e",
   "metadata": {},
   "source": [
    "## Constant Variable \n",
    "Constant is a variable or value that does not change, which means it remains the same and cannot be modified. But in the case of Python, the constant concept is not applicable. By convention, we can use only uppercase characters to define the constant variable if we don’t want to change it.\n",
    "\n",
    "we usally define a constant in python with upper case letter we can create a seprate fiile and import it later"
   ]
  },
  {
   "cell_type": "code",
   "execution_count": 23,
   "id": "0291dd93",
   "metadata": {},
   "outputs": [
    {
     "name": "stdout",
     "output_type": "stream",
     "text": [
      "20\n"
     ]
    }
   ],
   "source": [
    "from constant import*\n",
    "print(CON_1)"
   ]
  },
  {
   "cell_type": "markdown",
   "id": "5c48b4ee",
   "metadata": {},
   "source": [
    "## Multiple assignments\n",
    " we can assin a multiple values to multiple variable and a single value to a multiple variables \n",
    " "
   ]
  },
  {
   "cell_type": "code",
   "execution_count": 9,
   "id": "41511f57",
   "metadata": {},
   "outputs": [
    {
     "name": "stdout",
     "output_type": "stream",
     "text": [
      "10\n",
      "10\n",
      "10\n"
     ]
    }
   ],
   "source": [
    "#single value to multiple variables\n",
    "a = b = c = 10\n",
    "print(a) # 10\n",
    "print(b) # 10\n",
    "print(c) # 10"
   ]
  },
  {
   "cell_type": "code",
   "execution_count": 10,
   "id": "bc47d659",
   "metadata": {},
   "outputs": [
    {
     "name": "stdout",
     "output_type": "stream",
     "text": [
      "10 70 Jessa\n"
     ]
    }
   ],
   "source": [
    "# multiple values to multiple variables\n",
    "roll_no, marks, name = 10, 70, \"Jessa\"\n",
    "print(roll_no, marks, name) # 10 20 Jessa"
   ]
  },
  {
   "cell_type": "markdown",
   "id": "7f9bd3d3",
   "metadata": {},
   "source": [
    "## local Variable\n",
    "A local variable is a variable that is accessible inside a block of code only where it is declared. That means, If we declare a variable inside a method, the scope of the local variable is limited to the method only. So it is not accessible from outside of the method. If we try to access it, we will get an error."
   ]
  },
  {
   "cell_type": "code",
   "execution_count": 11,
   "id": "50a6f20a",
   "metadata": {},
   "outputs": [
    {
     "name": "stdout",
     "output_type": "stream",
     "text": [
      "Value of price in test1 function : 900\n"
     ]
    },
    {
     "ename": "NameError",
     "evalue": "name 'price' is not defined",
     "output_type": "error",
     "traceback": [
      "\u001b[1;31m---------------------------------------------------------------------------\u001b[0m",
      "\u001b[1;31mNameError\u001b[0m                                 Traceback (most recent call last)",
      "Cell \u001b[1;32mIn[11], line 11\u001b[0m\n\u001b[0;32m      9\u001b[0m \u001b[38;5;66;03m# call functions\u001b[39;00m\n\u001b[0;32m     10\u001b[0m test1()\n\u001b[1;32m---> 11\u001b[0m test2()\n",
      "Cell \u001b[1;32mIn[11], line 7\u001b[0m, in \u001b[0;36mtest2\u001b[1;34m()\u001b[0m\n\u001b[0;32m      5\u001b[0m \u001b[38;5;28;01mdef\u001b[39;00m \u001b[38;5;21mtest2\u001b[39m():  \u001b[38;5;66;03m# defining 2nd function\u001b[39;00m\n\u001b[0;32m      6\u001b[0m     \u001b[38;5;66;03m# NameError: name 'price' is not defined\u001b[39;00m\n\u001b[1;32m----> 7\u001b[0m     \u001b[38;5;28mprint\u001b[39m(\u001b[38;5;124m\"\u001b[39m\u001b[38;5;124mValue price in test2 function:\u001b[39m\u001b[38;5;124m\"\u001b[39m, price)\n",
      "\u001b[1;31mNameError\u001b[0m: name 'price' is not defined"
     ]
    }
   ],
   "source": [
    "def test1():  # defining 1st function\n",
    "    price = 900  # local variable\n",
    "    print(\"Value of price in test1 function :\", price)\n",
    "\n",
    "def test2():  # defining 2nd function\n",
    "    # NameError: name 'price' is not defined\n",
    "    print(\"Value price in test2 function:\", price)\n",
    "\n",
    "# call functions\n",
    "test1()\n",
    "test2()"
   ]
  },
  {
   "cell_type": "markdown",
   "id": "7ea9ec0e",
   "metadata": {},
   "source": [
    "as we see test1 run bcz the variable declare in local function and we did't get access in test2"
   ]
  },
  {
   "cell_type": "markdown",
   "id": "3e1ae545",
   "metadata": {},
   "source": [
    "## Golbal variable \n",
    "A Global variable is a variable that is defined outside of the method (block of code). That is accessible anywhere in the code file."
   ]
  },
  {
   "cell_type": "code",
   "execution_count": 12,
   "id": "2a9312af",
   "metadata": {},
   "outputs": [
    {
     "name": "stdout",
     "output_type": "stream",
     "text": [
      "price in 1st function : 900\n",
      "price in 2nd function : 900\n"
     ]
    }
   ],
   "source": [
    "price = 900  # Global variable\n",
    "\n",
    "def test1():  # defining 1st function\n",
    "    print(\"price in 1st function :\", price)  # 900\n",
    "\n",
    "def test2():  # defining 2nd function\n",
    "    print(\"price in 2nd function :\", price)  # 900\n",
    "\n",
    "# call functions\n",
    "test1()\n",
    "test2()"
   ]
  },
  {
   "cell_type": "markdown",
   "id": "7ba397d0",
   "metadata": {},
   "source": [
    "## Object/Variable identity and references\n",
    " whenever we create an object, a number is given to it and uniquely identifies it. This number is nothing but a memory address of a variable’s value. Once the object is created, the identity of that object never changes. "
   ]
  },
  {
   "cell_type": "code",
   "execution_count": 14,
   "id": "6dfbb680",
   "metadata": {},
   "outputs": [
    {
     "name": "stdout",
     "output_type": "stream",
     "text": [
      "2386028663536\n",
      "2386028663536\n"
     ]
    }
   ],
   "source": [
    "n = 300\n",
    "m = n\n",
    "print(id(n)) # same memory address\n",
    "print(id(m)) # same memory address "
   ]
  },
  {
   "cell_type": "code",
   "execution_count": 15,
   "id": "962158ce",
   "metadata": {},
   "outputs": [
    {
     "name": "stdout",
     "output_type": "stream",
     "text": [
      "Memory address of m: 2386028663376\n",
      "Memory address of n: 2386028663088\n"
     ]
    }
   ],
   "source": [
    "m = 500\n",
    "n = 400\n",
    "print(\"Memory address of m:\", id(m))  # 1686681059984\n",
    "print(\"Memory address of n:\", id(n))  # 1686681059824"
   ]
  },
  {
   "cell_type": "markdown",
   "id": "d08d28f3",
   "metadata": {},
   "source": [
    "## Object Refrence\n",
    "In Python, when we assign a value to a variable, we create an object and reference it.\n",
    "\n",
    "For example, a=10, here, an object with the value  10 is created in memory, and reference a now points to the memory address where the object is stored.\n",
    "\n",
    "Suppose we created a=10, b=10, and  c=10, the value of the three variables is the same. Instead of creating three objects, Python creates only one object as 10 with references such as a,b,c."
   ]
  },
  {
   "cell_type": "code",
   "execution_count": 16,
   "id": "74dc8c29",
   "metadata": {},
   "outputs": [
    {
     "name": "stdout",
     "output_type": "stream",
     "text": [
      "140714878577368\n",
      "140714878577368\n",
      "140714878577688\n",
      "140714878577688\n",
      "140714878577688\n"
     ]
    }
   ],
   "source": [
    "a = 10\n",
    "b = 10\n",
    "print(id(a))\n",
    "print(id(b))\n",
    "\n",
    "c = 20\n",
    "d = 20\n",
    "e = 20\n",
    "print(id(c))\n",
    "print(id(d))\n",
    "print(id(e))"
   ]
  },
  {
   "cell_type": "code",
   "execution_count": 17,
   "id": "3bdedd4a",
   "metadata": {},
   "outputs": [
    {
     "name": "stdout",
     "output_type": "stream",
     "text": [
      "4294967295\n",
      "4294967295\n"
     ]
    }
   ],
   "source": [
    "# to check the numbers of refrence in the onject \n",
    "import sys\n",
    "print(sys.getrefcount(a))\n",
    "print(sys.getrefcount(c))"
   ]
  },
  {
   "cell_type": "markdown",
   "id": "f32de5d0",
   "metadata": {},
   "source": [
    "## Packing \n",
    "In Python, we can create a tuple (or list) by packing a group of variables.\n",
    "Packing can be used when we want to collect multiple values in a single variable. Generally, this operation is referred to as tuple packing."
   ]
  },
  {
   "cell_type": "code",
   "execution_count": 19,
   "id": "45505341",
   "metadata": {},
   "outputs": [
    {
     "name": "stdout",
     "output_type": "stream",
     "text": [
      "(10, 20, 20, 40)\n"
     ]
    }
   ],
   "source": [
    "a = 10\n",
    "b = 20\n",
    "c = 20\n",
    "d = 40\n",
    "tuple1 = a, b, c, d # Packing tuple\n",
    "print(tuple1) # (10, 20, 20, 40)"
   ]
  },
  {
   "cell_type": "code",
   "execution_count": 20,
   "id": "af7a8bca",
   "metadata": {},
   "outputs": [
    {
     "name": "stdout",
     "output_type": "stream",
     "text": [
      "10 20 30 40\n"
     ]
    }
   ],
   "source": [
    "# tubple unpacking \n",
    "tuple1 = (10, 20, 30, 40)\n",
    "a, b, c, d = tuple1\n",
    "print(a, b, c, d)  # 10 20 30 40"
   ]
  },
  {
   "cell_type": "code",
   "execution_count": null,
   "id": "ffe0b179",
   "metadata": {},
   "outputs": [],
   "source": []
  }
 ],
 "metadata": {
  "kernelspec": {
   "display_name": "Python 3",
   "language": "python",
   "name": "python3"
  },
  "language_info": {
   "codemirror_mode": {
    "name": "ipython",
    "version": 3
   },
   "file_extension": ".py",
   "mimetype": "text/x-python",
   "name": "python",
   "nbconvert_exporter": "python",
   "pygments_lexer": "ipython3",
   "version": "3.12.7"
  }
 },
 "nbformat": 4,
 "nbformat_minor": 5
}
